{
  "nbformat": 4,
  "nbformat_minor": 0,
  "metadata": {
    "accelerator": "GPU",
    "anaconda-cloud": {},
    "colab": {
      "provenance": [],
      "include_colab_link": true
    },
    "kernelspec": {
      "display_name": "Python [conda env:tensorflow]",
      "language": "python",
      "name": "conda-env-tensorflow-py"
    },
    "language_info": {
      "codemirror_mode": {
        "name": "ipython",
        "version": 3
      },
      "file_extension": ".py",
      "mimetype": "text/x-python",
      "name": "python",
      "nbconvert_exporter": "python",
      "pygments_lexer": "ipython3",
      "version": "3.6.5"
    },
    "gpuClass": "standard"
  },
  "cells": [
    {
      "cell_type": "markdown",
      "metadata": {
        "id": "view-in-github",
        "colab_type": "text"
      },
      "source": [
        "<a href=\"https://colab.research.google.com/github/fabiodemo/Deep-Learning-CV-CNN-TL/blob/main/cnn_implementation.ipynb\" target=\"_parent\"><img src=\"https://colab.research.google.com/assets/colab-badge.svg\" alt=\"Open In Colab\"/></a>"
      ]
    },
    {
      "cell_type": "markdown",
      "metadata": {
        "id": "v6OCC73yRnNv"
      },
      "source": [
        "## Convolutional Neural Networks - Implementation"
      ]
    },
    {
      "cell_type": "markdown",
      "metadata": {
        "id": "wqeZBG1GYsFC"
      },
      "source": [
        "Your goal in this project is to classify handwritten digits using Convolutional Neural Networks. Here are a few examples of images from the input data:\n",
        "\n",
        "![](https://upload.wikimedia.org/wikipedia/commons/2/27/MnistExamples.png)\n",
        "\n",
        "As output labels, we have a set of integer values ranging from 0 to 9. We are going to follow those steps in this notebook:\n",
        "\n",
        "1. **Prepare the input data**\n",
        "2. **Creating a simple fully connected model**\n",
        "3. **Extending to CNNs**\n",
        "4. **Visualizing Predictions**\n",
        "\n",
        "As a summary, three new classes/modules are going to be used:\n",
        "- [`tf.keras.layers.Flatten`](https://keras.io/layers/core/)\n",
        "    - Flattens the input. Does not affect the batch size.\n",
        "- [`tf.keras.layers.Conv2D`](https://keras.io/layers/convolutional/)\n",
        "    - 2D convolution layer\n",
        "- [`tf.keras.layers.MaxPooling2D`](https://keras.io/layers/pooling/)\n",
        "    - Max pooling operation for spatial data.\n",
        "\n"
      ]
    },
    {
      "cell_type": "markdown",
      "metadata": {
        "id": "8K3KJIeOYpSw"
      },
      "source": [
        "\n",
        "### 1. Preparing the input data"
      ]
    },
    {
      "cell_type": "code",
      "source": [
        "!pip install tensorflow"
      ],
      "metadata": {
        "id": "lmrEJYlQTQ1w",
        "outputId": "0a5d95f4-8db5-44b6-bdb1-91c3a44538f9",
        "colab": {
          "base_uri": "https://localhost:8080/"
        }
      },
      "execution_count": 50,
      "outputs": [
        {
          "output_type": "stream",
          "name": "stdout",
          "text": [
            "Looking in indexes: https://pypi.org/simple, https://us-python.pkg.dev/colab-wheels/public/simple/\n",
            "Requirement already satisfied: tensorflow in /usr/local/lib/python3.7/dist-packages (2.8.2+zzzcolab20220719082949)\n",
            "Requirement already satisfied: opt-einsum>=2.3.2 in /usr/local/lib/python3.7/dist-packages (from tensorflow) (3.3.0)\n",
            "Requirement already satisfied: setuptools in /usr/local/lib/python3.7/dist-packages (from tensorflow) (57.4.0)\n",
            "Requirement already satisfied: protobuf<3.20,>=3.9.2 in /usr/local/lib/python3.7/dist-packages (from tensorflow) (3.17.3)\n",
            "Requirement already satisfied: absl-py>=0.4.0 in /usr/local/lib/python3.7/dist-packages (from tensorflow) (1.2.0)\n",
            "Requirement already satisfied: numpy>=1.20 in /usr/local/lib/python3.7/dist-packages (from tensorflow) (1.21.6)\n",
            "Requirement already satisfied: tensorflow-io-gcs-filesystem>=0.23.1 in /usr/local/lib/python3.7/dist-packages (from tensorflow) (0.26.0)\n",
            "Requirement already satisfied: flatbuffers>=1.12 in /usr/local/lib/python3.7/dist-packages (from tensorflow) (2.0.7)\n",
            "Requirement already satisfied: tensorflow-estimator<2.9,>=2.8 in /usr/local/lib/python3.7/dist-packages (from tensorflow) (2.8.0)\n",
            "Requirement already satisfied: gast>=0.2.1 in /usr/local/lib/python3.7/dist-packages (from tensorflow) (0.5.3)\n",
            "Requirement already satisfied: astunparse>=1.6.0 in /usr/local/lib/python3.7/dist-packages (from tensorflow) (1.6.3)\n",
            "Requirement already satisfied: six>=1.12.0 in /usr/local/lib/python3.7/dist-packages (from tensorflow) (1.15.0)\n",
            "Requirement already satisfied: termcolor>=1.1.0 in /usr/local/lib/python3.7/dist-packages (from tensorflow) (1.1.0)\n",
            "Requirement already satisfied: keras-preprocessing>=1.1.1 in /usr/local/lib/python3.7/dist-packages (from tensorflow) (1.1.2)\n",
            "Requirement already satisfied: libclang>=9.0.1 in /usr/local/lib/python3.7/dist-packages (from tensorflow) (14.0.6)\n",
            "Requirement already satisfied: keras<2.9,>=2.8.0rc0 in /usr/local/lib/python3.7/dist-packages (from tensorflow) (2.8.0)\n",
            "Requirement already satisfied: tensorboard<2.9,>=2.8 in /usr/local/lib/python3.7/dist-packages (from tensorflow) (2.8.0)\n",
            "Requirement already satisfied: grpcio<2.0,>=1.24.3 in /usr/local/lib/python3.7/dist-packages (from tensorflow) (1.48.1)\n",
            "Requirement already satisfied: h5py>=2.9.0 in /usr/local/lib/python3.7/dist-packages (from tensorflow) (3.1.0)\n",
            "Requirement already satisfied: typing-extensions>=3.6.6 in /usr/local/lib/python3.7/dist-packages (from tensorflow) (4.1.1)\n",
            "Requirement already satisfied: google-pasta>=0.1.1 in /usr/local/lib/python3.7/dist-packages (from tensorflow) (0.2.0)\n",
            "Requirement already satisfied: wrapt>=1.11.0 in /usr/local/lib/python3.7/dist-packages (from tensorflow) (1.14.1)\n",
            "Requirement already satisfied: wheel<1.0,>=0.23.0 in /usr/local/lib/python3.7/dist-packages (from astunparse>=1.6.0->tensorflow) (0.37.1)\n",
            "Requirement already satisfied: cached-property in /usr/local/lib/python3.7/dist-packages (from h5py>=2.9.0->tensorflow) (1.5.2)\n",
            "Requirement already satisfied: markdown>=2.6.8 in /usr/local/lib/python3.7/dist-packages (from tensorboard<2.9,>=2.8->tensorflow) (3.4.1)\n",
            "Requirement already satisfied: google-auth<3,>=1.6.3 in /usr/local/lib/python3.7/dist-packages (from tensorboard<2.9,>=2.8->tensorflow) (1.35.0)\n",
            "Requirement already satisfied: tensorboard-plugin-wit>=1.6.0 in /usr/local/lib/python3.7/dist-packages (from tensorboard<2.9,>=2.8->tensorflow) (1.8.1)\n",
            "Requirement already satisfied: requests<3,>=2.21.0 in /usr/local/lib/python3.7/dist-packages (from tensorboard<2.9,>=2.8->tensorflow) (2.23.0)\n",
            "Requirement already satisfied: tensorboard-data-server<0.7.0,>=0.6.0 in /usr/local/lib/python3.7/dist-packages (from tensorboard<2.9,>=2.8->tensorflow) (0.6.1)\n",
            "Requirement already satisfied: google-auth-oauthlib<0.5,>=0.4.1 in /usr/local/lib/python3.7/dist-packages (from tensorboard<2.9,>=2.8->tensorflow) (0.4.6)\n",
            "Requirement already satisfied: werkzeug>=0.11.15 in /usr/local/lib/python3.7/dist-packages (from tensorboard<2.9,>=2.8->tensorflow) (1.0.1)\n",
            "Requirement already satisfied: rsa<5,>=3.1.4 in /usr/local/lib/python3.7/dist-packages (from google-auth<3,>=1.6.3->tensorboard<2.9,>=2.8->tensorflow) (4.9)\n",
            "Requirement already satisfied: pyasn1-modules>=0.2.1 in /usr/local/lib/python3.7/dist-packages (from google-auth<3,>=1.6.3->tensorboard<2.9,>=2.8->tensorflow) (0.2.8)\n",
            "Requirement already satisfied: cachetools<5.0,>=2.0.0 in /usr/local/lib/python3.7/dist-packages (from google-auth<3,>=1.6.3->tensorboard<2.9,>=2.8->tensorflow) (4.2.4)\n",
            "Requirement already satisfied: requests-oauthlib>=0.7.0 in /usr/local/lib/python3.7/dist-packages (from google-auth-oauthlib<0.5,>=0.4.1->tensorboard<2.9,>=2.8->tensorflow) (1.3.1)\n",
            "Requirement already satisfied: importlib-metadata>=4.4 in /usr/local/lib/python3.7/dist-packages (from markdown>=2.6.8->tensorboard<2.9,>=2.8->tensorflow) (4.12.0)\n",
            "Requirement already satisfied: zipp>=0.5 in /usr/local/lib/python3.7/dist-packages (from importlib-metadata>=4.4->markdown>=2.6.8->tensorboard<2.9,>=2.8->tensorflow) (3.8.1)\n",
            "Requirement already satisfied: pyasn1<0.5.0,>=0.4.6 in /usr/local/lib/python3.7/dist-packages (from pyasn1-modules>=0.2.1->google-auth<3,>=1.6.3->tensorboard<2.9,>=2.8->tensorflow) (0.4.8)\n",
            "Requirement already satisfied: chardet<4,>=3.0.2 in /usr/local/lib/python3.7/dist-packages (from requests<3,>=2.21.0->tensorboard<2.9,>=2.8->tensorflow) (3.0.4)\n",
            "Requirement already satisfied: idna<3,>=2.5 in /usr/local/lib/python3.7/dist-packages (from requests<3,>=2.21.0->tensorboard<2.9,>=2.8->tensorflow) (2.10)\n",
            "Requirement already satisfied: urllib3!=1.25.0,!=1.25.1,<1.26,>=1.21.1 in /usr/local/lib/python3.7/dist-packages (from requests<3,>=2.21.0->tensorboard<2.9,>=2.8->tensorflow) (1.24.3)\n",
            "Requirement already satisfied: certifi>=2017.4.17 in /usr/local/lib/python3.7/dist-packages (from requests<3,>=2.21.0->tensorboard<2.9,>=2.8->tensorflow) (2022.6.15)\n",
            "Requirement already satisfied: oauthlib>=3.0.0 in /usr/local/lib/python3.7/dist-packages (from requests-oauthlib>=0.7.0->google-auth-oauthlib<0.5,>=0.4.1->tensorboard<2.9,>=2.8->tensorflow) (3.2.0)\n"
          ]
        }
      ]
    },
    {
      "cell_type": "code",
      "metadata": {
        "id": "P3vy7rAIX1xV"
      },
      "source": [
        "from tensorflow.keras.datasets import mnist"
      ],
      "execution_count": 51,
      "outputs": []
    },
    {
      "cell_type": "code",
      "metadata": {
        "id": "LXH4dioUX1um"
      },
      "source": [
        "mnist.load_data?"
      ],
      "execution_count": 52,
      "outputs": []
    },
    {
      "cell_type": "code",
      "source": [
        "(X_train, y_train) , (X_test, y_test) = mnist.load_data()"
      ],
      "metadata": {
        "id": "gIYjawEPUADy"
      },
      "execution_count": 53,
      "outputs": []
    },
    {
      "cell_type": "code",
      "metadata": {
        "id": "Mjlof3omX1sH",
        "outputId": "7c5f134c-ccac-458c-b50d-82ff36d69aad",
        "colab": {
          "base_uri": "https://localhost:8080/"
        }
      },
      "source": [
        "X_train.shape"
      ],
      "execution_count": 54,
      "outputs": [
        {
          "output_type": "execute_result",
          "data": {
            "text/plain": [
              "(60000, 28, 28)"
            ]
          },
          "metadata": {},
          "execution_count": 54
        }
      ]
    },
    {
      "cell_type": "code",
      "source": [
        "X_test.shape"
      ],
      "metadata": {
        "id": "tEn8SFWeUKWb",
        "outputId": "59c6cea9-dcf9-440c-ff7a-e587dbab3e9f",
        "colab": {
          "base_uri": "https://localhost:8080/"
        }
      },
      "execution_count": 55,
      "outputs": [
        {
          "output_type": "execute_result",
          "data": {
            "text/plain": [
              "(10000, 28, 28)"
            ]
          },
          "metadata": {},
          "execution_count": 55
        }
      ]
    },
    {
      "cell_type": "code",
      "source": [
        "y_train"
      ],
      "metadata": {
        "id": "asbPaFz9UOD6",
        "outputId": "b9c237a9-59e5-4296-ccd2-394df70019b4",
        "colab": {
          "base_uri": "https://localhost:8080/"
        }
      },
      "execution_count": 56,
      "outputs": [
        {
          "output_type": "execute_result",
          "data": {
            "text/plain": [
              "array([5, 0, 4, ..., 5, 6, 8], dtype=uint8)"
            ]
          },
          "metadata": {},
          "execution_count": 56
        }
      ]
    },
    {
      "cell_type": "code",
      "source": [
        "X_train[0]"
      ],
      "metadata": {
        "id": "m0ke4XmLUQO9",
        "outputId": "ce521063-70e5-43a5-dfb5-e386ac282740",
        "colab": {
          "base_uri": "https://localhost:8080/"
        }
      },
      "execution_count": 57,
      "outputs": [
        {
          "output_type": "execute_result",
          "data": {
            "text/plain": [
              "array([[  0,   0,   0,   0,   0,   0,   0,   0,   0,   0,   0,   0,   0,\n",
              "          0,   0,   0,   0,   0,   0,   0,   0,   0,   0,   0,   0,   0,\n",
              "          0,   0],\n",
              "       [  0,   0,   0,   0,   0,   0,   0,   0,   0,   0,   0,   0,   0,\n",
              "          0,   0,   0,   0,   0,   0,   0,   0,   0,   0,   0,   0,   0,\n",
              "          0,   0],\n",
              "       [  0,   0,   0,   0,   0,   0,   0,   0,   0,   0,   0,   0,   0,\n",
              "          0,   0,   0,   0,   0,   0,   0,   0,   0,   0,   0,   0,   0,\n",
              "          0,   0],\n",
              "       [  0,   0,   0,   0,   0,   0,   0,   0,   0,   0,   0,   0,   0,\n",
              "          0,   0,   0,   0,   0,   0,   0,   0,   0,   0,   0,   0,   0,\n",
              "          0,   0],\n",
              "       [  0,   0,   0,   0,   0,   0,   0,   0,   0,   0,   0,   0,   0,\n",
              "          0,   0,   0,   0,   0,   0,   0,   0,   0,   0,   0,   0,   0,\n",
              "          0,   0],\n",
              "       [  0,   0,   0,   0,   0,   0,   0,   0,   0,   0,   0,   0,   3,\n",
              "         18,  18,  18, 126, 136, 175,  26, 166, 255, 247, 127,   0,   0,\n",
              "          0,   0],\n",
              "       [  0,   0,   0,   0,   0,   0,   0,   0,  30,  36,  94, 154, 170,\n",
              "        253, 253, 253, 253, 253, 225, 172, 253, 242, 195,  64,   0,   0,\n",
              "          0,   0],\n",
              "       [  0,   0,   0,   0,   0,   0,   0,  49, 238, 253, 253, 253, 253,\n",
              "        253, 253, 253, 253, 251,  93,  82,  82,  56,  39,   0,   0,   0,\n",
              "          0,   0],\n",
              "       [  0,   0,   0,   0,   0,   0,   0,  18, 219, 253, 253, 253, 253,\n",
              "        253, 198, 182, 247, 241,   0,   0,   0,   0,   0,   0,   0,   0,\n",
              "          0,   0],\n",
              "       [  0,   0,   0,   0,   0,   0,   0,   0,  80, 156, 107, 253, 253,\n",
              "        205,  11,   0,  43, 154,   0,   0,   0,   0,   0,   0,   0,   0,\n",
              "          0,   0],\n",
              "       [  0,   0,   0,   0,   0,   0,   0,   0,   0,  14,   1, 154, 253,\n",
              "         90,   0,   0,   0,   0,   0,   0,   0,   0,   0,   0,   0,   0,\n",
              "          0,   0],\n",
              "       [  0,   0,   0,   0,   0,   0,   0,   0,   0,   0,   0, 139, 253,\n",
              "        190,   2,   0,   0,   0,   0,   0,   0,   0,   0,   0,   0,   0,\n",
              "          0,   0],\n",
              "       [  0,   0,   0,   0,   0,   0,   0,   0,   0,   0,   0,  11, 190,\n",
              "        253,  70,   0,   0,   0,   0,   0,   0,   0,   0,   0,   0,   0,\n",
              "          0,   0],\n",
              "       [  0,   0,   0,   0,   0,   0,   0,   0,   0,   0,   0,   0,  35,\n",
              "        241, 225, 160, 108,   1,   0,   0,   0,   0,   0,   0,   0,   0,\n",
              "          0,   0],\n",
              "       [  0,   0,   0,   0,   0,   0,   0,   0,   0,   0,   0,   0,   0,\n",
              "         81, 240, 253, 253, 119,  25,   0,   0,   0,   0,   0,   0,   0,\n",
              "          0,   0],\n",
              "       [  0,   0,   0,   0,   0,   0,   0,   0,   0,   0,   0,   0,   0,\n",
              "          0,  45, 186, 253, 253, 150,  27,   0,   0,   0,   0,   0,   0,\n",
              "          0,   0],\n",
              "       [  0,   0,   0,   0,   0,   0,   0,   0,   0,   0,   0,   0,   0,\n",
              "          0,   0,  16,  93, 252, 253, 187,   0,   0,   0,   0,   0,   0,\n",
              "          0,   0],\n",
              "       [  0,   0,   0,   0,   0,   0,   0,   0,   0,   0,   0,   0,   0,\n",
              "          0,   0,   0,   0, 249, 253, 249,  64,   0,   0,   0,   0,   0,\n",
              "          0,   0],\n",
              "       [  0,   0,   0,   0,   0,   0,   0,   0,   0,   0,   0,   0,   0,\n",
              "          0,  46, 130, 183, 253, 253, 207,   2,   0,   0,   0,   0,   0,\n",
              "          0,   0],\n",
              "       [  0,   0,   0,   0,   0,   0,   0,   0,   0,   0,   0,   0,  39,\n",
              "        148, 229, 253, 253, 253, 250, 182,   0,   0,   0,   0,   0,   0,\n",
              "          0,   0],\n",
              "       [  0,   0,   0,   0,   0,   0,   0,   0,   0,   0,  24, 114, 221,\n",
              "        253, 253, 253, 253, 201,  78,   0,   0,   0,   0,   0,   0,   0,\n",
              "          0,   0],\n",
              "       [  0,   0,   0,   0,   0,   0,   0,   0,  23,  66, 213, 253, 253,\n",
              "        253, 253, 198,  81,   2,   0,   0,   0,   0,   0,   0,   0,   0,\n",
              "          0,   0],\n",
              "       [  0,   0,   0,   0,   0,   0,  18, 171, 219, 253, 253, 253, 253,\n",
              "        195,  80,   9,   0,   0,   0,   0,   0,   0,   0,   0,   0,   0,\n",
              "          0,   0],\n",
              "       [  0,   0,   0,   0,  55, 172, 226, 253, 253, 253, 253, 244, 133,\n",
              "         11,   0,   0,   0,   0,   0,   0,   0,   0,   0,   0,   0,   0,\n",
              "          0,   0],\n",
              "       [  0,   0,   0,   0, 136, 253, 253, 253, 212, 135, 132,  16,   0,\n",
              "          0,   0,   0,   0,   0,   0,   0,   0,   0,   0,   0,   0,   0,\n",
              "          0,   0],\n",
              "       [  0,   0,   0,   0,   0,   0,   0,   0,   0,   0,   0,   0,   0,\n",
              "          0,   0,   0,   0,   0,   0,   0,   0,   0,   0,   0,   0,   0,\n",
              "          0,   0],\n",
              "       [  0,   0,   0,   0,   0,   0,   0,   0,   0,   0,   0,   0,   0,\n",
              "          0,   0,   0,   0,   0,   0,   0,   0,   0,   0,   0,   0,   0,\n",
              "          0,   0],\n",
              "       [  0,   0,   0,   0,   0,   0,   0,   0,   0,   0,   0,   0,   0,\n",
              "          0,   0,   0,   0,   0,   0,   0,   0,   0,   0,   0,   0,   0,\n",
              "          0,   0]], dtype=uint8)"
            ]
          },
          "metadata": {},
          "execution_count": 57
        }
      ]
    },
    {
      "cell_type": "code",
      "source": [
        "import matplotlib.pyplot as plt\n",
        "\n",
        "i=400\n",
        "plt.imshow(X_train[i])\n",
        "plt.title(\"Label \" + str(y_train[i]))\n",
        "plt.show()"
      ],
      "metadata": {
        "id": "1IEbAmC_UStk",
        "outputId": "62424609-8d4a-4762-92ec-d2eae3bc51cb",
        "colab": {
          "base_uri": "https://localhost:8080/",
          "height": 281
        }
      },
      "execution_count": 58,
      "outputs": [
        {
          "output_type": "display_data",
          "data": {
            "text/plain": [
              "<Figure size 432x288 with 1 Axes>"
            ],
            "image/png": "[encoded data removed]"
          },
          "metadata": {
            "needs_background": "light"
          }
        }
      ]
    },
    {
      "cell_type": "markdown",
      "metadata": {
        "id": "9ENmPMuKVolZ"
      },
      "source": [
        "Now, let's normalize the data using standardization:"
      ]
    },
    {
      "cell_type": "code",
      "metadata": {
        "id": "JBwSbBjvX3A-",
        "outputId": "c97ab997-dede-4e9d-c3da-52f5def766a0",
        "colab": {
          "base_uri": "https://localhost:8080/"
        }
      },
      "source": [
        "X_train/255"
      ],
      "execution_count": 59,
      "outputs": [
        {
          "output_type": "execute_result",
          "data": {
            "text/plain": [
              "array([[[0., 0., 0., ..., 0., 0., 0.],\n",
              "        [0., 0., 0., ..., 0., 0., 0.],\n",
              "        [0., 0., 0., ..., 0., 0., 0.],\n",
              "        ...,\n",
              "        [0., 0., 0., ..., 0., 0., 0.],\n",
              "        [0., 0., 0., ..., 0., 0., 0.],\n",
              "        [0., 0., 0., ..., 0., 0., 0.]],\n",
              "\n",
              "       [[0., 0., 0., ..., 0., 0., 0.],\n",
              "        [0., 0., 0., ..., 0., 0., 0.],\n",
              "        [0., 0., 0., ..., 0., 0., 0.],\n",
              "        ...,\n",
              "        [0., 0., 0., ..., 0., 0., 0.],\n",
              "        [0., 0., 0., ..., 0., 0., 0.],\n",
              "        [0., 0., 0., ..., 0., 0., 0.]],\n",
              "\n",
              "       [[0., 0., 0., ..., 0., 0., 0.],\n",
              "        [0., 0., 0., ..., 0., 0., 0.],\n",
              "        [0., 0., 0., ..., 0., 0., 0.],\n",
              "        ...,\n",
              "        [0., 0., 0., ..., 0., 0., 0.],\n",
              "        [0., 0., 0., ..., 0., 0., 0.],\n",
              "        [0., 0., 0., ..., 0., 0., 0.]],\n",
              "\n",
              "       ...,\n",
              "\n",
              "       [[0., 0., 0., ..., 0., 0., 0.],\n",
              "        [0., 0., 0., ..., 0., 0., 0.],\n",
              "        [0., 0., 0., ..., 0., 0., 0.],\n",
              "        ...,\n",
              "        [0., 0., 0., ..., 0., 0., 0.],\n",
              "        [0., 0., 0., ..., 0., 0., 0.],\n",
              "        [0., 0., 0., ..., 0., 0., 0.]],\n",
              "\n",
              "       [[0., 0., 0., ..., 0., 0., 0.],\n",
              "        [0., 0., 0., ..., 0., 0., 0.],\n",
              "        [0., 0., 0., ..., 0., 0., 0.],\n",
              "        ...,\n",
              "        [0., 0., 0., ..., 0., 0., 0.],\n",
              "        [0., 0., 0., ..., 0., 0., 0.],\n",
              "        [0., 0., 0., ..., 0., 0., 0.]],\n",
              "\n",
              "       [[0., 0., 0., ..., 0., 0., 0.],\n",
              "        [0., 0., 0., ..., 0., 0., 0.],\n",
              "        [0., 0., 0., ..., 0., 0., 0.],\n",
              "        ...,\n",
              "        [0., 0., 0., ..., 0., 0., 0.],\n",
              "        [0., 0., 0., ..., 0., 0., 0.],\n",
              "        [0., 0., 0., ..., 0., 0., 0.]]])"
            ]
          },
          "metadata": {},
          "execution_count": 59
        }
      ]
    },
    {
      "cell_type": "markdown",
      "metadata": {
        "id": "-EuPGiCJ-lmB"
      },
      "source": [
        "Normalisation is required so that all the inputs are at a comparable range.\n",
        "Say there are two inputs to your ann, x1 and x2. x1 varies from to 0 to 0.5 and x2 varies from 0 to 1000. A change of x1 of 0.5  is 100 percent change where as a change of x2 by 0.5 is only a change of 0.05%. Hence normalization helps. "
      ]
    },
    {
      "cell_type": "markdown",
      "metadata": {
        "id": "P2z_A6xiRvVg"
      },
      "source": [
        "### 2. Training using only Fully Connected layers first"
      ]
    },
    {
      "cell_type": "code",
      "metadata": {
        "id": "yZqOQeE2X4aO"
      },
      "source": [
        "from tensorflow.keras.models import Sequential\n",
        "from tensorflow.keras.layers import Dense, Flatten"
      ],
      "execution_count": 60,
      "outputs": []
    },
    {
      "cell_type": "code",
      "metadata": {
        "id": "PMdHKS6DX4Xt"
      },
      "source": [
        "model = Sequential([\n",
        "    Flatten(input_shape=(28, 28)),\n",
        "    Dense(400, activation='relu'),\n",
        "    Dense(10, activation='softmax')\n",
        "])"
      ],
      "execution_count": 61,
      "outputs": []
    },
    {
      "cell_type": "code",
      "source": [
        "model.summary()"
      ],
      "metadata": {
        "id": "wC1_A4MykaVK",
        "outputId": "702dad49-230d-4672-bb55-f9bc4d68291f",
        "colab": {
          "base_uri": "https://localhost:8080/"
        }
      },
      "execution_count": 62,
      "outputs": [
        {
          "output_type": "stream",
          "name": "stdout",
          "text": [
            "Model: \"sequential_1\"\n",
            "_________________________________________________________________\n",
            " Layer (type)                Output Shape              Param #   \n",
            "=================================================================\n",
            " flatten_1 (Flatten)         (None, 784)               0         \n",
            "                                                                 \n",
            " dense_2 (Dense)             (None, 400)               314000    \n",
            "                                                                 \n",
            " dense_3 (Dense)             (None, 10)                4010      \n",
            "                                                                 \n",
            "=================================================================\n",
            "Total params: 318,010\n",
            "Trainable params: 318,010\n",
            "Non-trainable params: 0\n",
            "_________________________________________________________________\n"
          ]
        }
      ]
    },
    {
      "cell_type": "code",
      "source": [
        "model.compile(optimizer='adam', \n",
        "              loss='sparse_categorical_crossentropy',\n",
        "              metrics=['accuracy']\n",
        "              )"
      ],
      "metadata": {
        "id": "a2GtZU23lED5"
      },
      "execution_count": 63,
      "outputs": []
    },
    {
      "cell_type": "markdown",
      "source": [
        "epochs são os números de vezes que a rede neural vai ler por completo todos os dados"
      ],
      "metadata": {
        "id": "vZs96YprmNJp"
      }
    },
    {
      "cell_type": "code",
      "source": [
        "model.fit(X_train, y_train, validation_data=(X_test, y_test), epochs=3)"
      ],
      "metadata": {
        "id": "JmAOGe9Yl41e",
        "outputId": "8786500b-2c71-4914-f918-e215181001b1",
        "colab": {
          "base_uri": "https://localhost:8080/"
        }
      },
      "execution_count": 64,
      "outputs": [
        {
          "output_type": "stream",
          "name": "stdout",
          "text": [
            "Epoch 1/3\n",
            "1875/1875 [==============================] - 6s 3ms/step - loss: 2.7743 - accuracy: 0.8999 - val_loss: 0.4724 - val_accuracy: 0.9148\n",
            "Epoch 2/3\n",
            "1875/1875 [==============================] - 8s 4ms/step - loss: 0.3267 - accuracy: 0.9336 - val_loss: 0.2933 - val_accuracy: 0.9366\n",
            "Epoch 3/3\n",
            "1875/1875 [==============================] - 6s 3ms/step - loss: 0.2766 - accuracy: 0.9405 - val_loss: 0.3083 - val_accuracy: 0.9403\n"
          ]
        },
        {
          "output_type": "execute_result",
          "data": {
            "text/plain": [
              "<keras.callbacks.History at 0x7fe92827a090>"
            ]
          },
          "metadata": {},
          "execution_count": 64
        }
      ]
    },
    {
      "cell_type": "code",
      "source": [
        "model.fit(X_train, y_train, validation_data=(X_test, y_test), epochs=6)"
      ],
      "metadata": {
        "id": "igd0oAR8miD9",
        "outputId": "eebf1812-c2fc-4859-9b2b-5a344a3b8752",
        "colab": {
          "base_uri": "https://localhost:8080/"
        }
      },
      "execution_count": 65,
      "outputs": [
        {
          "output_type": "stream",
          "name": "stdout",
          "text": [
            "Epoch 1/6\n",
            "1875/1875 [==============================] - 6s 3ms/step - loss: 0.2562 - accuracy: 0.9438 - val_loss: 0.3260 - val_accuracy: 0.9368\n",
            "Epoch 2/6\n",
            "1875/1875 [==============================] - 9s 5ms/step - loss: 0.2368 - accuracy: 0.9482 - val_loss: 0.3126 - val_accuracy: 0.9417\n",
            "Epoch 3/6\n",
            "1875/1875 [==============================] - 6s 3ms/step - loss: 0.2154 - accuracy: 0.9525 - val_loss: 0.3073 - val_accuracy: 0.9456\n",
            "Epoch 4/6\n",
            "1875/1875 [==============================] - 5s 3ms/step - loss: 0.1982 - accuracy: 0.9560 - val_loss: 0.2819 - val_accuracy: 0.9457\n",
            "Epoch 5/6\n",
            "1875/1875 [==============================] - 5s 3ms/step - loss: 0.2101 - accuracy: 0.9549 - val_loss: 0.3186 - val_accuracy: 0.9405\n",
            "Epoch 6/6\n",
            "1875/1875 [==============================] - 5s 3ms/step - loss: 0.1926 - accuracy: 0.9588 - val_loss: 0.3272 - val_accuracy: 0.9477\n"
          ]
        },
        {
          "output_type": "execute_result",
          "data": {
            "text/plain": [
              "<keras.callbacks.History at 0x7fe9281456d0>"
            ]
          },
          "metadata": {},
          "execution_count": 65
        }
      ]
    },
    {
      "cell_type": "code",
      "source": [
        "hist = model.fit(X_train, y_train, validation_data=(X_test, y_test), epochs=15)"
      ],
      "metadata": {
        "id": "B9GSnR0ZmwGF",
        "outputId": "6172e802-ca91-47f0-e196-64b67d928a1a",
        "colab": {
          "base_uri": "https://localhost:8080/"
        }
      },
      "execution_count": 66,
      "outputs": [
        {
          "output_type": "stream",
          "name": "stdout",
          "text": [
            "Epoch 1/15\n",
            "1875/1875 [==============================] - 5s 3ms/step - loss: 0.1823 - accuracy: 0.9619 - val_loss: 0.3655 - val_accuracy: 0.9434\n",
            "Epoch 2/15\n",
            "1875/1875 [==============================] - 5s 3ms/step - loss: 0.1814 - accuracy: 0.9615 - val_loss: 0.3458 - val_accuracy: 0.9497\n",
            "Epoch 3/15\n",
            "1875/1875 [==============================] - 5s 2ms/step - loss: 0.1731 - accuracy: 0.9635 - val_loss: 0.3650 - val_accuracy: 0.9487\n",
            "Epoch 4/15\n",
            "1875/1875 [==============================] - 5s 3ms/step - loss: 0.1727 - accuracy: 0.9650 - val_loss: 0.3391 - val_accuracy: 0.9516\n",
            "Epoch 5/15\n",
            "1875/1875 [==============================] - 5s 3ms/step - loss: 0.1781 - accuracy: 0.9638 - val_loss: 0.4348 - val_accuracy: 0.9513\n",
            "Epoch 6/15\n",
            "1875/1875 [==============================] - 5s 3ms/step - loss: 0.1731 - accuracy: 0.9661 - val_loss: 0.3804 - val_accuracy: 0.9480\n",
            "Epoch 7/15\n",
            "1875/1875 [==============================] - 5s 3ms/step - loss: 0.1620 - accuracy: 0.9668 - val_loss: 0.4345 - val_accuracy: 0.9489\n",
            "Epoch 8/15\n",
            "1875/1875 [==============================] - 5s 3ms/step - loss: 0.1601 - accuracy: 0.9685 - val_loss: 0.4669 - val_accuracy: 0.9536\n",
            "Epoch 9/15\n",
            "1875/1875 [==============================] - 5s 3ms/step - loss: 0.1556 - accuracy: 0.9696 - val_loss: 0.4782 - val_accuracy: 0.9514\n",
            "Epoch 10/15\n",
            "1875/1875 [==============================] - 5s 3ms/step - loss: 0.1470 - accuracy: 0.9704 - val_loss: 0.5046 - val_accuracy: 0.9549\n",
            "Epoch 11/15\n",
            "1875/1875 [==============================] - 5s 3ms/step - loss: 0.1665 - accuracy: 0.9687 - val_loss: 0.4865 - val_accuracy: 0.9531\n",
            "Epoch 12/15\n",
            "1875/1875 [==============================] - 5s 3ms/step - loss: 0.1447 - accuracy: 0.9713 - val_loss: 0.4484 - val_accuracy: 0.9556\n",
            "Epoch 13/15\n",
            "1875/1875 [==============================] - 5s 3ms/step - loss: 0.1541 - accuracy: 0.9711 - val_loss: 0.5180 - val_accuracy: 0.9552\n",
            "Epoch 14/15\n",
            "1875/1875 [==============================] - 5s 3ms/step - loss: 0.1385 - accuracy: 0.9722 - val_loss: 0.5315 - val_accuracy: 0.9548\n",
            "Epoch 15/15\n",
            "1875/1875 [==============================] - 5s 3ms/step - loss: 0.1530 - accuracy: 0.9719 - val_loss: 0.4841 - val_accuracy: 0.9526\n"
          ]
        }
      ]
    },
    {
      "cell_type": "code",
      "source": [
        "import pandas as pd\n",
        "# hist.history\n",
        "# pd.DataFrame(hist.history)\n",
        "df = pd.DataFrame(hist.history)\n",
        "df"
      ],
      "metadata": {
        "id": "yEBmKcpfn6EY",
        "outputId": "c436bcc1-b4b5-428f-ce72-0a2e447f676c",
        "colab": {
          "base_uri": "https://localhost:8080/",
          "height": 520
        }
      },
      "execution_count": 67,
      "outputs": [
        {
          "output_type": "execute_result",
          "data": {
            "text/plain": [
              "        loss  accuracy  val_loss  val_accuracy\n",
              "0   0.182315  0.961867  0.365515        0.9434\n",
              "1   0.181409  0.961467  0.345836        0.9497\n",
              "2   0.173127  0.963550  0.364990        0.9487\n",
              "3   0.172723  0.965017  0.339089        0.9516\n",
              "4   0.178067  0.963833  0.434832        0.9513\n",
              "5   0.173054  0.966083  0.380440        0.9480\n",
              "6   0.161971  0.966833  0.434549        0.9489\n",
              "7   0.160104  0.968533  0.466900        0.9536\n",
              "8   0.155578  0.969550  0.478246        0.9514\n",
              "9   0.146980  0.970433  0.504623        0.9549\n",
              "10  0.166488  0.968700  0.486502        0.9531\n",
              "11  0.144739  0.971300  0.448362        0.9556\n",
              "12  0.154090  0.971117  0.517979        0.9552\n",
              "13  0.138538  0.972217  0.531468        0.9548\n",
              "14  0.153012  0.971900  0.484102        0.9526"
            ],
            "text/html": [
              "\n",
              "  <div id=\"df-0304135b-7891-43b3-8ef6-166938a7a0db\">\n",
              "    <div class=\"colab-df-container\">\n",
              "      <div>\n",
              "<style scoped>\n",
              "    .dataframe tbody tr th:only-of-type {\n",
              "        vertical-align: middle;\n",
              "    }\n",
              "\n",
              "    .dataframe tbody tr th {\n",
              "        vertical-align: top;\n",
              "    }\n",
              "\n",
              "    .dataframe thead th {\n",
              "        text-align: right;\n",
              "    }\n",
              "</style>\n",
              "<table border=\"1\" class=\"dataframe\">\n",
              "  <thead>\n",
              "    <tr style=\"text-align: right;\">\n",
              "      <th></th>\n",
              "      <th>loss</th>\n",
              "      <th>accuracy</th>\n",
              "      <th>val_loss</th>\n",
              "      <th>val_accuracy</th>\n",
              "    </tr>\n",
              "  </thead>\n",
              "  <tbody>\n",
              "    <tr>\n",
              "      <th>0</th>\n",
              "      <td>0.182315</td>\n",
              "      <td>0.961867</td>\n",
              "      <td>0.365515</td>\n",
              "      <td>0.9434</td>\n",
              "    </tr>\n",
              "    <tr>\n",
              "      <th>1</th>\n",
              "      <td>0.181409</td>\n",
              "      <td>0.961467</td>\n",
              "      <td>0.345836</td>\n",
              "      <td>0.9497</td>\n",
              "    </tr>\n",
              "    <tr>\n",
              "      <th>2</th>\n",
              "      <td>0.173127</td>\n",
              "      <td>0.963550</td>\n",
              "      <td>0.364990</td>\n",
              "      <td>0.9487</td>\n",
              "    </tr>\n",
              "    <tr>\n",
              "      <th>3</th>\n",
              "      <td>0.172723</td>\n",
              "      <td>0.965017</td>\n",
              "      <td>0.339089</td>\n",
              "      <td>0.9516</td>\n",
              "    </tr>\n",
              "    <tr>\n",
              "      <th>4</th>\n",
              "      <td>0.178067</td>\n",
              "      <td>0.963833</td>\n",
              "      <td>0.434832</td>\n",
              "      <td>0.9513</td>\n",
              "    </tr>\n",
              "    <tr>\n",
              "      <th>5</th>\n",
              "      <td>0.173054</td>\n",
              "      <td>0.966083</td>\n",
              "      <td>0.380440</td>\n",
              "      <td>0.9480</td>\n",
              "    </tr>\n",
              "    <tr>\n",
              "      <th>6</th>\n",
              "      <td>0.161971</td>\n",
              "      <td>0.966833</td>\n",
              "      <td>0.434549</td>\n",
              "      <td>0.9489</td>\n",
              "    </tr>\n",
              "    <tr>\n",
              "      <th>7</th>\n",
              "      <td>0.160104</td>\n",
              "      <td>0.968533</td>\n",
              "      <td>0.466900</td>\n",
              "      <td>0.9536</td>\n",
              "    </tr>\n",
              "    <tr>\n",
              "      <th>8</th>\n",
              "      <td>0.155578</td>\n",
              "      <td>0.969550</td>\n",
              "      <td>0.478246</td>\n",
              "      <td>0.9514</td>\n",
              "    </tr>\n",
              "    <tr>\n",
              "      <th>9</th>\n",
              "      <td>0.146980</td>\n",
              "      <td>0.970433</td>\n",
              "      <td>0.504623</td>\n",
              "      <td>0.9549</td>\n",
              "    </tr>\n",
              "    <tr>\n",
              "      <th>10</th>\n",
              "      <td>0.166488</td>\n",
              "      <td>0.968700</td>\n",
              "      <td>0.486502</td>\n",
              "      <td>0.9531</td>\n",
              "    </tr>\n",
              "    <tr>\n",
              "      <th>11</th>\n",
              "      <td>0.144739</td>\n",
              "      <td>0.971300</td>\n",
              "      <td>0.448362</td>\n",
              "      <td>0.9556</td>\n",
              "    </tr>\n",
              "    <tr>\n",
              "      <th>12</th>\n",
              "      <td>0.154090</td>\n",
              "      <td>0.971117</td>\n",
              "      <td>0.517979</td>\n",
              "      <td>0.9552</td>\n",
              "    </tr>\n",
              "    <tr>\n",
              "      <th>13</th>\n",
              "      <td>0.138538</td>\n",
              "      <td>0.972217</td>\n",
              "      <td>0.531468</td>\n",
              "      <td>0.9548</td>\n",
              "    </tr>\n",
              "    <tr>\n",
              "      <th>14</th>\n",
              "      <td>0.153012</td>\n",
              "      <td>0.971900</td>\n",
              "      <td>0.484102</td>\n",
              "      <td>0.9526</td>\n",
              "    </tr>\n",
              "  </tbody>\n",
              "</table>\n",
              "</div>\n",
              "      <button class=\"colab-df-convert\" onclick=\"convertToInteractive('df-0304135b-7891-43b3-8ef6-166938a7a0db')\"\n",
              "              title=\"Convert this dataframe to an interactive table.\"\n",
              "              style=\"display:none;\">\n",
              "        \n",
              "  <svg xmlns=\"http://www.w3.org/2000/svg\" height=\"24px\"viewBox=\"0 0 24 24\"\n",
              "       width=\"24px\">\n",
              "    <path d=\"M0 0h24v24H0V0z\" fill=\"none\"/>\n",
              "    <path d=\"M18.56 5.44l.94 2.06.94-2.06 2.06-.94-2.06-.94-.94-2.06-.94 2.06-2.06.94zm-11 1L8.5 8.5l.94-2.06 2.06-.94-2.06-.94L8.5 2.5l-.94 2.06-2.06.94zm10 10l.94 2.06.94-2.06 2.06-.94-2.06-.94-.94-2.06-.94 2.06-2.06.94z\"/><path d=\"M17.41 7.96l-1.37-1.37c-.4-.4-.92-.59-1.43-.59-.52 0-1.04.2-1.43.59L10.3 9.45l-7.72 7.72c-.78.78-.78 2.05 0 2.83L4 21.41c.39.39.9.59 1.41.59.51 0 1.02-.2 1.41-.59l7.78-7.78 2.81-2.81c.8-.78.8-2.07 0-2.86zM5.41 20L4 18.59l7.72-7.72 1.47 1.35L5.41 20z\"/>\n",
              "  </svg>\n",
              "      </button>\n",
              "      \n",
              "  <style>\n",
              "    .colab-df-container {\n",
              "      display:flex;\n",
              "      flex-wrap:wrap;\n",
              "      gap: 12px;\n",
              "    }\n",
              "\n",
              "    .colab-df-convert {\n",
              "      background-color: #E8F0FE;\n",
              "      border: none;\n",
              "      border-radius: 50%;\n",
              "      cursor: pointer;\n",
              "      display: none;\n",
              "      fill: #1967D2;\n",
              "      height: 32px;\n",
              "      padding: 0 0 0 0;\n",
              "      width: 32px;\n",
              "    }\n",
              "\n",
              "    .colab-df-convert:hover {\n",
              "      background-color: #E2EBFA;\n",
              "      box-shadow: 0px 1px 2px rgba(60, 64, 67, 0.3), 0px 1px 3px 1px rgba(60, 64, 67, 0.15);\n",
              "      fill: #174EA6;\n",
              "    }\n",
              "\n",
              "    [theme=dark] .colab-df-convert {\n",
              "      background-color: #3B4455;\n",
              "      fill: #D2E3FC;\n",
              "    }\n",
              "\n",
              "    [theme=dark] .colab-df-convert:hover {\n",
              "      background-color: #434B5C;\n",
              "      box-shadow: 0px 1px 3px 1px rgba(0, 0, 0, 0.15);\n",
              "      filter: drop-shadow(0px 1px 2px rgba(0, 0, 0, 0.3));\n",
              "      fill: #FFFFFF;\n",
              "    }\n",
              "  </style>\n",
              "\n",
              "      <script>\n",
              "        const buttonEl =\n",
              "          document.querySelector('#df-0304135b-7891-43b3-8ef6-166938a7a0db button.colab-df-convert');\n",
              "        buttonEl.style.display =\n",
              "          google.colab.kernel.accessAllowed ? 'block' : 'none';\n",
              "\n",
              "        async function convertToInteractive(key) {\n",
              "          const element = document.querySelector('#df-0304135b-7891-43b3-8ef6-166938a7a0db');\n",
              "          const dataTable =\n",
              "            await google.colab.kernel.invokeFunction('convertToInteractive',\n",
              "                                                     [key], {});\n",
              "          if (!dataTable) return;\n",
              "\n",
              "          const docLinkHtml = 'Like what you see? Visit the ' +\n",
              "            '<a target=\"_blank\" href=https://colab.research.google.com/notebooks/data_table.ipynb>data table notebook</a>'\n",
              "            + ' to learn more about interactive tables.';\n",
              "          element.innerHTML = '';\n",
              "          dataTable['output_type'] = 'display_data';\n",
              "          await google.colab.output.renderOutput(dataTable, element);\n",
              "          const docLink = document.createElement('div');\n",
              "          docLink.innerHTML = docLinkHtml;\n",
              "          element.appendChild(docLink);\n",
              "        }\n",
              "      </script>\n",
              "    </div>\n",
              "  </div>\n",
              "  "
            ]
          },
          "metadata": {},
          "execution_count": 67
        }
      ]
    },
    {
      "cell_type": "code",
      "source": [
        "df[['accuracy', 'val_accuracy']].plot()"
      ],
      "metadata": {
        "id": "2AzsvzlUoF2Z",
        "outputId": "8343114a-5dea-4738-c1d6-e2ffdf368fe5",
        "colab": {
          "base_uri": "https://localhost:8080/",
          "height": 282
        }
      },
      "execution_count": 68,
      "outputs": [
        {
          "output_type": "execute_result",
          "data": {
            "text/plain": [
              "<matplotlib.axes._subplots.AxesSubplot at 0x7fe928070510>"
            ]
          },
          "metadata": {},
          "execution_count": 68
        },
        {
          "output_type": "display_data",
          "data": {
            "text/plain": [
              "<Figure size 432x288 with 1 Axes>"
            ],
            "image/png": "[encoded data removed]"
          },
          "metadata": {
            "needs_background": "light"
          }
        }
      ]
    },
    {
      "cell_type": "code",
      "source": [
        "df[['loss', 'val_loss']].plot()"
      ],
      "metadata": {
        "id": "pEJZmdCVoYj8",
        "outputId": "b89daf10-9f5d-4dc4-b461-e47e8f41433f",
        "colab": {
          "base_uri": "https://localhost:8080/",
          "height": 286
        }
      },
      "execution_count": 69,
      "outputs": [
        {
          "output_type": "execute_result",
          "data": {
            "text/plain": [
              "<matplotlib.axes._subplots.AxesSubplot at 0x7fe928124190>"
            ]
          },
          "metadata": {},
          "execution_count": 69
        },
        {
          "output_type": "display_data",
          "data": {
            "text/plain": [
              "<Figure size 432x288 with 1 Axes>"
            ],
            "image/png": "[encoded data removed]"
          },
          "metadata": {
            "needs_background": "light"
          }
        }
      ]
    },
    {
      "cell_type": "markdown",
      "source": [
        "##### Os dados foram treinados sem normalizar os dados, então para verificar a diferença utilizaremos os dataset com dados normalizados"
      ],
      "metadata": {
        "id": "I8JY1w-dpQXo"
      }
    },
    {
      "cell_type": "code",
      "source": [
        "x_mean = X_train.mean()\n",
        "x_std = X_train.std()\n",
        "X_train_norm = (X_train - x_mean)/ x_std"
      ],
      "metadata": {
        "id": "mNYXr_Nfp9py"
      },
      "execution_count": 70,
      "outputs": []
    },
    {
      "cell_type": "code",
      "source": [
        "X_test_norm = (X_test-x_mean)/x_std"
      ],
      "metadata": {
        "id": "J_4ziOqKqeEj"
      },
      "execution_count": 71,
      "outputs": []
    },
    {
      "cell_type": "code",
      "source": [
        "hist = model.fit(X_train_norm, \n",
        "                 y_train, \n",
        "                 validation_data=(X_test_norm, y_test), \n",
        "                 epochs=15\n",
        "                 )"
      ],
      "metadata": {
        "id": "IUWf_P80pTAj",
        "outputId": "29e709d3-d421-4e52-a658-08aa60c5ba11",
        "colab": {
          "base_uri": "https://localhost:8080/"
        }
      },
      "execution_count": 72,
      "outputs": [
        {
          "output_type": "stream",
          "name": "stdout",
          "text": [
            "Epoch 1/15\n",
            "1875/1875 [==============================] - 7s 3ms/step - loss: 0.1279 - accuracy: 0.9615 - val_loss: 0.0962 - val_accuracy: 0.9716\n",
            "Epoch 2/15\n",
            "1875/1875 [==============================] - 6s 3ms/step - loss: 0.0613 - accuracy: 0.9811 - val_loss: 0.0820 - val_accuracy: 0.9755\n",
            "Epoch 3/15\n",
            "1875/1875 [==============================] - 6s 3ms/step - loss: 0.0453 - accuracy: 0.9859 - val_loss: 0.0798 - val_accuracy: 0.9762\n",
            "Epoch 4/15\n",
            "1875/1875 [==============================] - 6s 3ms/step - loss: 0.0345 - accuracy: 0.9888 - val_loss: 0.0772 - val_accuracy: 0.9775\n",
            "Epoch 5/15\n",
            "1875/1875 [==============================] - 6s 3ms/step - loss: 0.0287 - accuracy: 0.9905 - val_loss: 0.1008 - val_accuracy: 0.9750\n",
            "Epoch 6/15\n",
            "1875/1875 [==============================] - 6s 3ms/step - loss: 0.0253 - accuracy: 0.9916 - val_loss: 0.0855 - val_accuracy: 0.9789\n",
            "Epoch 7/15\n",
            "1875/1875 [==============================] - 6s 3ms/step - loss: 0.0196 - accuracy: 0.9935 - val_loss: 0.0875 - val_accuracy: 0.9799\n",
            "Epoch 8/15\n",
            "1875/1875 [==============================] - 6s 3ms/step - loss: 0.0180 - accuracy: 0.9940 - val_loss: 0.0770 - val_accuracy: 0.9810\n",
            "Epoch 9/15\n",
            "1875/1875 [==============================] - 6s 3ms/step - loss: 0.0162 - accuracy: 0.9945 - val_loss: 0.1013 - val_accuracy: 0.9787\n",
            "Epoch 10/15\n",
            "1875/1875 [==============================] - 6s 3ms/step - loss: 0.0138 - accuracy: 0.9954 - val_loss: 0.0962 - val_accuracy: 0.9812\n",
            "Epoch 11/15\n",
            "1875/1875 [==============================] - 6s 3ms/step - loss: 0.0136 - accuracy: 0.9956 - val_loss: 0.1130 - val_accuracy: 0.9797\n",
            "Epoch 12/15\n",
            "1875/1875 [==============================] - 6s 3ms/step - loss: 0.0117 - accuracy: 0.9959 - val_loss: 0.1063 - val_accuracy: 0.9814\n",
            "Epoch 13/15\n",
            "1875/1875 [==============================] - 6s 3ms/step - loss: 0.0120 - accuracy: 0.9958 - val_loss: 0.1075 - val_accuracy: 0.9789\n",
            "Epoch 14/15\n",
            "1875/1875 [==============================] - 6s 3ms/step - loss: 0.0124 - accuracy: 0.9960 - val_loss: 0.1022 - val_accuracy: 0.9813\n",
            "Epoch 15/15\n",
            "1875/1875 [==============================] - 6s 3ms/step - loss: 0.0120 - accuracy: 0.9964 - val_loss: 0.1052 - val_accuracy: 0.9818\n"
          ]
        }
      ]
    },
    {
      "cell_type": "code",
      "source": [
        "df = pd.DataFrame(hist.history)\n",
        "df[['accuracy', 'val_accuracy']].plot()"
      ],
      "metadata": {
        "id": "Ps9ieW0aqnsk",
        "outputId": "520806c9-a7c1-4a4c-b311-e3d1b5419886",
        "colab": {
          "base_uri": "https://localhost:8080/",
          "height": 282
        }
      },
      "execution_count": 73,
      "outputs": [
        {
          "output_type": "execute_result",
          "data": {
            "text/plain": [
              "<matplotlib.axes._subplots.AxesSubplot at 0x7fe91e6b9b90>"
            ]
          },
          "metadata": {},
          "execution_count": 73
        },
        {
          "output_type": "display_data",
          "data": {
            "text/plain": [
              "<Figure size 432x288 with 1 Axes>"
            ],
            "image/png": "[encoded data removed]"
          },
          "metadata": {
            "needs_background": "light"
          }
        }
      ]
    },
    {
      "cell_type": "code",
      "source": [
        "df[['loss', 'val_loss']].plot()"
      ],
      "metadata": {
        "id": "cnGXGAt9raiR",
        "outputId": "92c14ea2-c03d-40fc-8b8f-a443741faa1f",
        "colab": {
          "base_uri": "https://localhost:8080/",
          "height": 282
        }
      },
      "execution_count": 74,
      "outputs": [
        {
          "output_type": "execute_result",
          "data": {
            "text/plain": [
              "<matplotlib.axes._subplots.AxesSubplot at 0x7fe91e687750>"
            ]
          },
          "metadata": {},
          "execution_count": 74
        },
        {
          "output_type": "display_data",
          "data": {
            "text/plain": [
              "<Figure size 432x288 with 1 Axes>"
            ],
            "image/png": "[encoded data removed]"
          },
          "metadata": {
            "needs_background": "light"
          }
        }
      ]
    },
    {
      "cell_type": "markdown",
      "metadata": {
        "id": "jgeCrlak5AMG"
      },
      "source": [
        "### 3. Extending to CNNs"
      ]
    },
    {
      "cell_type": "markdown",
      "metadata": {
        "id": "WKBhdpFaYw8s"
      },
      "source": [
        "\n",
        "Now, let's replicate the same architecture from the visualization provided on the previous video:\n",
        "![Screen Shot 2019-05-14 at 12 58 15](https://user-images.githubusercontent.com/5733246/57713463-e8627400-7648-11e9-8c64-3745519dbb20.png)\n",
        "\n",
        "The analog architecture that is going to be used is:\n",
        "- Conv. Layer with 6 filters\n",
        "- Maxpooling\n",
        "- Conv. Layer with 16 filters\n",
        "- Maxpooling\n",
        "- Fully connected layer with 120 units\n",
        "- Fully connected layer with 100 units\n",
        "- Output layer with 10 units\n"
      ]
    },
    {
      "cell_type": "markdown",
      "metadata": {
        "id": "HrF_r7NgYzJ6"
      },
      "source": [
        "#### 3.1 CNN - First Intuitions"
      ]
    },
    {
      "cell_type": "code",
      "metadata": {
        "id": "g9XMm782X5v8"
      },
      "source": [
        "from tensorflow.keras.layers import Conv2D"
      ],
      "execution_count": 75,
      "outputs": []
    },
    {
      "cell_type": "code",
      "metadata": {
        "id": "8qpZe9PjYLoH"
      },
      "source": [
        "conv = Conv2D(1, kernel_size=(3, 3))"
      ],
      "execution_count": 76,
      "outputs": []
    },
    {
      "cell_type": "code",
      "source": [
        "conv.weights"
      ],
      "metadata": {
        "colab": {
          "base_uri": "https://localhost:8080/"
        },
        "id": "fN4IM5nbeFNh",
        "outputId": "4ad451b6-8f26-4e67-eb9e-2f300b074239"
      },
      "execution_count": 77,
      "outputs": [
        {
          "output_type": "execute_result",
          "data": {
            "text/plain": [
              "[]"
            ]
          },
          "metadata": {},
          "execution_count": 77
        }
      ]
    },
    {
      "cell_type": "code",
      "source": [
        "x = X_train_norm[0].reshape(1, 28, 28, 1)"
      ],
      "metadata": {
        "id": "39PidiFicy_F"
      },
      "execution_count": 78,
      "outputs": []
    },
    {
      "cell_type": "code",
      "source": [
        "new_x = conv(x)"
      ],
      "metadata": {
        "id": "vZLaVvSYdlRS"
      },
      "execution_count": 79,
      "outputs": []
    },
    {
      "cell_type": "code",
      "source": [
        "plt.imshow(X_train_norm[0], cmap='gray')"
      ],
      "metadata": {
        "colab": {
          "base_uri": "https://localhost:8080/",
          "height": 282
        },
        "id": "ivaNSAcud43s",
        "outputId": "47e31989-9c70-4407-f4b9-d0fa3cb25056"
      },
      "execution_count": 80,
      "outputs": [
        {
          "output_type": "execute_result",
          "data": {
            "text/plain": [
              "<matplotlib.image.AxesImage at 0x7fe91e5ffdd0>"
            ]
          },
          "metadata": {},
          "execution_count": 80
        },
        {
          "output_type": "display_data",
          "data": {
            "text/plain": [
              "<Figure size 432x288 with 1 Axes>"
            ],
            "image/png": "[encoded data removed]"
          },
          "metadata": {
            "needs_background": "light"
          }
        }
      ]
    },
    {
      "cell_type": "code",
      "source": [
        "new_x.shape"
      ],
      "metadata": {
        "colab": {
          "base_uri": "https://localhost:8080/"
        },
        "id": "ldX1J9jBeAPd",
        "outputId": "38e5d064-a792-4733-e83e-e7aa6794b4fa"
      },
      "execution_count": 81,
      "outputs": [
        {
          "output_type": "execute_result",
          "data": {
            "text/plain": [
              "TensorShape([1, 26, 26, 1])"
            ]
          },
          "metadata": {},
          "execution_count": 81
        }
      ]
    },
    {
      "cell_type": "code",
      "source": [
        "new_x = new_x.numpy().reshape(26, 26)"
      ],
      "metadata": {
        "id": "BcFW0ROaeKks"
      },
      "execution_count": 82,
      "outputs": []
    },
    {
      "cell_type": "code",
      "source": [
        "plt.imshow(new_x, cmap='gray')"
      ],
      "metadata": {
        "colab": {
          "base_uri": "https://localhost:8080/",
          "height": 282
        },
        "id": "3ctZJsjWeTMd",
        "outputId": "420ebc58-81d0-4157-9acf-d8c7e92d000c"
      },
      "execution_count": 84,
      "outputs": [
        {
          "output_type": "execute_result",
          "data": {
            "text/plain": [
              "<matplotlib.image.AxesImage at 0x7fe92827fad0>"
            ]
          },
          "metadata": {},
          "execution_count": 84
        },
        {
          "output_type": "display_data",
          "data": {
            "text/plain": [
              "<Figure size 432x288 with 1 Axes>"
            ],
            "image/png": "[encoded data removed]"
          },
          "metadata": {
            "needs_background": "light"
          }
        }
      ]
    },
    {
      "cell_type": "markdown",
      "metadata": {
        "id": "V6MwgVrbYJ5f"
      },
      "source": [
        "\n",
        "#### 3.2 One Conv-Layer + Maxpooling"
      ]
    },
    {
      "cell_type": "code",
      "metadata": {
        "id": "YpLbbRQEYLOk"
      },
      "source": [
        "from tensorflow.keras.layers import Conv2D"
      ],
      "execution_count": 85,
      "outputs": []
    },
    {
      "cell_type": "code",
      "metadata": {
        "id": "E441Ga_iX5tj"
      },
      "source": [
        "model = Sequential([Conv2D(6, \n",
        "                           kernel_size=(3,3), \n",
        "                           input_shape=(28, 28, 1)),\n",
        "                    Flatten(),\n",
        "                    Dense(120, activation='relu'),\n",
        "                    Dense(100, activation='relu'),\n",
        "                    Dense(10, activation='softmax')\n",
        "])"
      ],
      "execution_count": 97,
      "outputs": []
    },
    {
      "cell_type": "code",
      "source": [
        "model.summary()"
      ],
      "metadata": {
        "colab": {
          "base_uri": "https://localhost:8080/"
        },
        "id": "P1CP4InGqjhh",
        "outputId": "0a8d38b3-7d51-4965-bbb1-353194ac8793"
      },
      "execution_count": 98,
      "outputs": [
        {
          "output_type": "stream",
          "name": "stdout",
          "text": [
            "Model: \"sequential_3\"\n",
            "_________________________________________________________________\n",
            " Layer (type)                Output Shape              Param #   \n",
            "=================================================================\n",
            " conv2d_4 (Conv2D)           (None, 26, 26, 6)         60        \n",
            "                                                                 \n",
            " flatten_3 (Flatten)         (None, 4056)              0         \n",
            "                                                                 \n",
            " dense_5 (Dense)             (None, 120)               486840    \n",
            "                                                                 \n",
            " dense_6 (Dense)             (None, 100)               12100     \n",
            "                                                                 \n",
            " dense_7 (Dense)             (None, 10)                1010      \n",
            "                                                                 \n",
            "=================================================================\n",
            "Total params: 500,010\n",
            "Trainable params: 500,010\n",
            "Non-trainable params: 0\n",
            "_________________________________________________________________\n"
          ]
        }
      ]
    },
    {
      "cell_type": "code",
      "source": [
        "model.compile(optimizer='adam', \n",
        "              loss='sparse_categorical_crossentropy',\n",
        "              metrics=['accuracy']\n",
        "              )"
      ],
      "metadata": {
        "id": "n-Fi-jNMqz_i"
      },
      "execution_count": 99,
      "outputs": []
    },
    {
      "cell_type": "code",
      "source": [
        "X_train_norm = X_train_norm.reshape(60000, 28, 28, 1)\n",
        "X_test_norm = X_test_norm.reshape(-1, 28, 28, 1)"
      ],
      "metadata": {
        "id": "eXjQ_g_vrLwx"
      },
      "execution_count": 100,
      "outputs": []
    },
    {
      "cell_type": "code",
      "source": [
        "hist = model.fit(X_train_norm, \n",
        "          y_train,  \n",
        "          validation_data=(X_test_norm, y_test), \n",
        "          epochs=5)"
      ],
      "metadata": {
        "colab": {
          "base_uri": "https://localhost:8080/"
        },
        "id": "IoGfbANUq2qw",
        "outputId": "374381ea-5e71-4282-9217-b19a9da1b3f3"
      },
      "execution_count": 102,
      "outputs": [
        {
          "output_type": "stream",
          "name": "stdout",
          "text": [
            "Epoch 1/5\n",
            "1875/1875 [==============================] - 6s 3ms/step - loss: 0.0493 - accuracy: 0.9837 - val_loss: 0.0858 - val_accuracy: 0.9756\n",
            "Epoch 2/5\n",
            "1875/1875 [==============================] - 6s 3ms/step - loss: 0.0371 - accuracy: 0.9876 - val_loss: 0.1003 - val_accuracy: 0.9725\n",
            "Epoch 3/5\n",
            "1875/1875 [==============================] - 6s 3ms/step - loss: 0.0309 - accuracy: 0.9898 - val_loss: 0.1175 - val_accuracy: 0.9739\n",
            "Epoch 4/5\n",
            "1875/1875 [==============================] - 6s 3ms/step - loss: 0.0278 - accuracy: 0.9911 - val_loss: 0.0964 - val_accuracy: 0.9761\n",
            "Epoch 5/5\n",
            "1875/1875 [==============================] - 6s 3ms/step - loss: 0.0240 - accuracy: 0.9921 - val_loss: 0.1276 - val_accuracy: 0.9713\n"
          ]
        }
      ]
    },
    {
      "cell_type": "markdown",
      "metadata": {
        "id": "bmu4vKhzXtPI"
      },
      "source": [
        "#### 3.3 Two Conv-Layer + Maxpooling\n",
        "\n",
        "And now, let's finish the architecture:"
      ]
    },
    {
      "cell_type": "code",
      "metadata": {
        "id": "aJtVtYoIb7EN"
      },
      "source": [
        "from tensorflow.keras.layers import MaxPool2D\n",
        "from tensorflow.keras.layers import Conv2D\n",
        "\n",
        "model = Sequential([Conv2D(6, \n",
        "                           kernel_size=(3,3), \n",
        "                           input_shape=(28, 28, 1),\n",
        "                           activation='relu'),\n",
        "                    MaxPool2D(),\n",
        "                    Conv2D(16, \n",
        "                           kernel_size=(3,3),\n",
        "                           activation='relu'),\n",
        "                    MaxPool2D(),\n",
        "                    Flatten(),\n",
        "                    Dense(120, activation='relu'),\n",
        "                    Dense(100, activation='relu'),\n",
        "                    Dense(10, activation='softmax')\n",
        "])"
      ],
      "execution_count": 108,
      "outputs": []
    },
    {
      "cell_type": "code",
      "source": [
        "model.summary()"
      ],
      "metadata": {
        "colab": {
          "base_uri": "https://localhost:8080/"
        },
        "id": "S2aLHvEHtLaZ",
        "outputId": "82af2821-fb9c-4dde-9c2d-459d7f2844e2"
      },
      "execution_count": 109,
      "outputs": [
        {
          "output_type": "stream",
          "name": "stdout",
          "text": [
            "Model: \"sequential_6\"\n",
            "_________________________________________________________________\n",
            " Layer (type)                Output Shape              Param #   \n",
            "=================================================================\n",
            " conv2d_9 (Conv2D)           (None, 26, 26, 6)         60        \n",
            "                                                                 \n",
            " max_pooling2d_4 (MaxPooling  (None, 13, 13, 6)        0         \n",
            " 2D)                                                             \n",
            "                                                                 \n",
            " conv2d_10 (Conv2D)          (None, 11, 11, 16)        880       \n",
            "                                                                 \n",
            " max_pooling2d_5 (MaxPooling  (None, 5, 5, 16)         0         \n",
            " 2D)                                                             \n",
            "                                                                 \n",
            " flatten_6 (Flatten)         (None, 400)               0         \n",
            "                                                                 \n",
            " dense_14 (Dense)            (None, 120)               48120     \n",
            "                                                                 \n",
            " dense_15 (Dense)            (None, 100)               12100     \n",
            "                                                                 \n",
            " dense_16 (Dense)            (None, 10)                1010      \n",
            "                                                                 \n",
            "=================================================================\n",
            "Total params: 62,170\n",
            "Trainable params: 62,170\n",
            "Non-trainable params: 0\n",
            "_________________________________________________________________\n"
          ]
        }
      ]
    },
    {
      "cell_type": "code",
      "metadata": {
        "id": "KTihZsb2YWTn"
      },
      "source": [
        "model.compile(optimizer='adam', \n",
        "              loss='sparse_categorical_crossentropy',\n",
        "              metrics=['accuracy']\n",
        "              )"
      ],
      "execution_count": 110,
      "outputs": []
    },
    {
      "cell_type": "code",
      "source": [
        "hist = model.fit(X_train_norm, \n",
        "          y_train,  \n",
        "          validation_data=(X_test_norm, y_test), \n",
        "          epochs=5)"
      ],
      "metadata": {
        "colab": {
          "base_uri": "https://localhost:8080/"
        },
        "id": "tTc_IO9atZZN",
        "outputId": "0fc23dfa-7fec-475c-eca5-30b12240c7f8"
      },
      "execution_count": 111,
      "outputs": [
        {
          "output_type": "stream",
          "name": "stdout",
          "text": [
            "Epoch 1/5\n",
            "1875/1875 [==============================] - 7s 3ms/step - loss: 0.1727 - accuracy: 0.9465 - val_loss: 0.0859 - val_accuracy: 0.9719\n",
            "Epoch 2/5\n",
            "1875/1875 [==============================] - 6s 3ms/step - loss: 0.0622 - accuracy: 0.9802 - val_loss: 0.0533 - val_accuracy: 0.9830\n",
            "Epoch 3/5\n",
            "1875/1875 [==============================] - 7s 4ms/step - loss: 0.0456 - accuracy: 0.9852 - val_loss: 0.0634 - val_accuracy: 0.9806\n",
            "Epoch 4/5\n",
            "1875/1875 [==============================] - 6s 3ms/step - loss: 0.0343 - accuracy: 0.9890 - val_loss: 0.0452 - val_accuracy: 0.9859\n",
            "Epoch 5/5\n",
            "1875/1875 [==============================] - 6s 3ms/step - loss: 0.0292 - accuracy: 0.9906 - val_loss: 0.0385 - val_accuracy: 0.9880\n"
          ]
        }
      ]
    },
    {
      "cell_type": "code",
      "source": [
        "df = pd.DataFrame(hist.history)\n",
        "df[['accuracy', 'val_accuracy']].plot()"
      ],
      "metadata": {
        "colab": {
          "base_uri": "https://localhost:8080/",
          "height": 282
        },
        "id": "a3ZiOBEjtZh5",
        "outputId": "c361e7ba-5ad3-4470-86e0-4e0cc6920afa"
      },
      "execution_count": 112,
      "outputs": [
        {
          "output_type": "execute_result",
          "data": {
            "text/plain": [
              "<matplotlib.axes._subplots.AxesSubplot at 0x7fe91e04c490>"
            ]
          },
          "metadata": {},
          "execution_count": 112
        },
        {
          "output_type": "display_data",
          "data": {
            "text/plain": [
              "<Figure size 432x288 with 1 Axes>"
            ],
            "image/png": "[encoded data removed]"
          },
          "metadata": {
            "needs_background": "light"
          }
        }
      ]
    },
    {
      "cell_type": "code",
      "source": [
        "model.save('best_model.h5')\n",
        "# Para carregar, só usar a função load_model do Keras"
      ],
      "metadata": {
        "id": "QfRyfNcZt98n"
      },
      "execution_count": 114,
      "outputs": []
    },
    {
      "cell_type": "markdown",
      "metadata": {
        "id": "XXSBPdESYXDR"
      },
      "source": [
        "### 4. Visualizing predictions"
      ]
    },
    {
      "cell_type": "markdown",
      "metadata": {
        "id": "2xFczDTBY3SL"
      },
      "source": [
        "Finally, let's visualize some predictions:"
      ]
    },
    {
      "cell_type": "code",
      "metadata": {
        "id": "uScDuqJCYgU3",
        "colab": {
          "base_uri": "https://localhost:8080/"
        },
        "outputId": "310c1970-8c93-449e-8903-51cb0af68987"
      },
      "source": [
        "x = X_test_norm[0].reshape(1, 28, 28, 1)\n",
        "model.predict(x)"
      ],
      "execution_count": 118,
      "outputs": [
        {
          "output_type": "execute_result",
          "data": {
            "text/plain": [
              "array([[4.4350596e-08, 2.0265409e-06, 1.4663436e-05, 4.9224868e-06,\n",
              "        3.8383228e-06, 5.9365082e-08, 1.9767414e-10, 9.9984848e-01,\n",
              "        6.1434656e-07, 1.2526111e-04]], dtype=float32)"
            ]
          },
          "metadata": {},
          "execution_count": 118
        }
      ]
    },
    {
      "cell_type": "code",
      "source": [
        "plt.imshow(x.reshape(28, 28), cmap='gray')"
      ],
      "metadata": {
        "colab": {
          "base_uri": "https://localhost:8080/",
          "height": 282
        },
        "id": "3nQXVNviv_a9",
        "outputId": "8c83069a-e67d-49ec-aa25-41ae15e443e9"
      },
      "execution_count": 129,
      "outputs": [
        {
          "output_type": "execute_result",
          "data": {
            "text/plain": [
              "<matplotlib.image.AxesImage at 0x7fe928175e10>"
            ]
          },
          "metadata": {},
          "execution_count": 129
        },
        {
          "output_type": "display_data",
          "data": {
            "text/plain": [
              "<Figure size 432x288 with 1 Axes>"
            ],
            "image/png": "[encoded data removed]"
          },
          "metadata": {
            "needs_background": "light"
          }
        }
      ]
    },
    {
      "cell_type": "code",
      "source": [
        "y_test[0]"
      ],
      "metadata": {
        "colab": {
          "base_uri": "https://localhost:8080/"
        },
        "id": "Bf7s8uHbvSoJ",
        "outputId": "e4872314-8163-441f-ab75-0b5cbaa2fe4e"
      },
      "execution_count": 119,
      "outputs": [
        {
          "output_type": "execute_result",
          "data": {
            "text/plain": [
              "7"
            ]
          },
          "metadata": {},
          "execution_count": 119
        }
      ]
    },
    {
      "cell_type": "code",
      "metadata": {
        "collapsed": true,
        "id": "SA3VOUNqXtPJ"
      },
      "source": [
        "pred = model.predict(x)"
      ],
      "execution_count": 121,
      "outputs": []
    },
    {
      "cell_type": "code",
      "source": [
        "idx = pred.argmax()\n",
        "idx"
      ],
      "metadata": {
        "id": "XXH1DQT2kYeM",
        "colab": {
          "base_uri": "https://localhost:8080/"
        },
        "outputId": "8d8c0cbf-db6b-4773-fb04-b4bf013a3af5"
      },
      "execution_count": 124,
      "outputs": [
        {
          "output_type": "execute_result",
          "data": {
            "text/plain": [
              "7"
            ]
          },
          "metadata": {},
          "execution_count": 124
        }
      ]
    },
    {
      "cell_type": "code",
      "source": [
        "pred[0][idx]"
      ],
      "metadata": {
        "colab": {
          "base_uri": "https://localhost:8080/"
        },
        "id": "zlZv_uMmvw1D",
        "outputId": "f57afc89-18b8-49fa-ff39-43f76b759145"
      },
      "execution_count": 126,
      "outputs": [
        {
          "output_type": "execute_result",
          "data": {
            "text/plain": [
              "0.9998485"
            ]
          },
          "metadata": {},
          "execution_count": 126
        }
      ]
    },
    {
      "cell_type": "code",
      "source": [
        "for id in range(5):\n",
        "  x = X_test_norm[id].reshape(1, 28, 28, 1)\n",
        "  plt.imshow(x.reshape(28, 28), cmap='gray')\n",
        "  pred = model.predict(x)\n",
        "  pred_class = pred.argmax()\n",
        "  plt.title(f'True: {y_test[id]}, Pred: {pred_class}, Prob: {pred[0][pred_class]*100:.4 f}')\n",
        "  plt.show()"
      ],
      "metadata": {
        "colab": {
          "base_uri": "https://localhost:8080/",
          "height": 1000
        },
        "id": "n6EjntPTvxss",
        "outputId": "5d7d2acc-0547-4506-a68d-f80e254c30b1"
      },
      "execution_count": 133,
      "outputs": [
        {
          "output_type": "display_data",
          "data": {
            "text/plain": [
              "<Figure size 432x288 with 1 Axes>"
            ],
            "image/png": "[encoded data removed]"
          },
          "metadata": {
            "needs_background": "light"
          }
        },
        {
          "output_type": "display_data",
          "data": {
            "text/plain": [
              "<Figure size 432x288 with 1 Axes>"
            ],
            "image/png": "[encoded data removed]"
          },
          "metadata": {
            "needs_background": "light"
          }
        },
        {
          "output_type": "display_data",
          "data": {
            "text/plain": [
              "<Figure size 432x288 with 1 Axes>"
            ],
            "image/png": "[encoded data removed]"
          },
          "metadata": {
            "needs_background": "light"
          }
        },
        {
          "output_type": "display_data",
          "data": {
            "text/plain": [
              "<Figure size 432x288 with 1 Axes>"
            ],
            "image/png": "[encoded data removed]"
          },
          "metadata": {
            "needs_background": "light"
          }
        },
        {
          "output_type": "display_data",
          "data": {
            "text/plain": [
              "<Figure size 432x288 with 1 Axes>"
            ],
            "image/png": "[encoded data removed]"
          },
          "metadata": {
            "needs_background": "light"
          }
        }
      ]
    },
    {
      "cell_type": "markdown",
      "source": [
        "### 5. Visualizing Conv Filters"
      ],
      "metadata": {
        "id": "h6a8dmiUxNPl"
      }
    },
    {
      "cell_type": "code",
      "source": [
        "conv_layer = model.layers[0]\n",
        "conv_layer.weights # 6 filtros, saída serão 6 imagens"
      ],
      "metadata": {
        "colab": {
          "base_uri": "https://localhost:8080/"
        },
        "id": "tJPGeCJHwn8T",
        "outputId": "c4dfbe82-14f6-43e2-ddd0-327b6849ca18"
      },
      "execution_count": 137,
      "outputs": [
        {
          "output_type": "execute_result",
          "data": {
            "text/plain": [
              "[<tf.Variable 'conv2d_9/kernel:0' shape=(3, 3, 1, 6) dtype=float32, numpy=\n",
              " array([[[[-0.10020842,  0.39807978, -0.08498003, -0.30788735,\n",
              "            0.34329394,  0.05277038]],\n",
              " \n",
              "         [[-0.27782416, -0.18209599,  0.12219884, -0.17595348,\n",
              "            0.4780755 ,  0.35700783]],\n",
              " \n",
              "         [[ 0.25573045, -0.26916683,  0.15958695,  0.01387115,\n",
              "           -0.08797214,  0.1633166 ]]],\n",
              " \n",
              " \n",
              "        [[[-0.01831366, -0.12138516,  0.31045622, -0.44269085,\n",
              "           -0.4163174 , -0.19914095]],\n",
              " \n",
              "         [[-0.2968359 ,  0.00856949,  0.04213435,  0.19198243,\n",
              "           -0.36934957,  0.3564877 ]],\n",
              " \n",
              "         [[ 0.23928043, -0.26433754,  0.3150922 ,  0.2447632 ,\n",
              "           -0.2231054 ,  0.06069497]]],\n",
              " \n",
              " \n",
              "        [[[-0.23559938,  0.3739307 ,  0.30932406, -0.43154883,\n",
              "           -0.19440836, -0.49912202]],\n",
              " \n",
              "         [[ 0.06432759, -0.0779438 ,  0.21512693, -0.0722214 ,\n",
              "           -0.21244392,  0.00948703]],\n",
              " \n",
              "         [[ 0.37225935, -0.34677234, -0.15191106,  0.28856987,\n",
              "           -0.06443514,  0.09609962]]]], dtype=float32)>,\n",
              " <tf.Variable 'conv2d_9/bias:0' shape=(6,) dtype=float32, numpy=\n",
              " array([-0.02731612, -0.02322235,  0.07630977, -0.11940107,  0.1270826 ,\n",
              "        -0.02406281], dtype=float32)>]"
            ]
          },
          "metadata": {},
          "execution_count": 137
        }
      ]
    },
    {
      "cell_type": "code",
      "source": [
        "x = X_train_norm[0].reshape(1, 28, 28, 1)\n",
        "plt.imshow(x.reshape(28, 28), cmap='gray')"
      ],
      "metadata": {
        "colab": {
          "base_uri": "https://localhost:8080/",
          "height": 282
        },
        "id": "7wLv-6j1x_MY",
        "outputId": "7ddcbfbc-ce7b-4a40-b879-1b0d2a66468a"
      },
      "execution_count": 146,
      "outputs": [
        {
          "output_type": "execute_result",
          "data": {
            "text/plain": [
              "<matplotlib.image.AxesImage at 0x7fe91ea77390>"
            ]
          },
          "metadata": {},
          "execution_count": 146
        },
        {
          "output_type": "display_data",
          "data": {
            "text/plain": [
              "<Figure size 432x288 with 1 Axes>"
            ],
            "image/png": "[encoded data removed]"
          },
          "metadata": {
            "needs_background": "light"
          }
        }
      ]
    },
    {
      "cell_type": "code",
      "source": [
        "output_imgs = conv_layer(x)\n",
        "output_imgs"
      ],
      "metadata": {
        "colab": {
          "base_uri": "https://localhost:8080/"
        },
        "id": "Z8fetpWJxeVM",
        "outputId": "38afb5c7-dc69-457b-8c21-8e904fc443d3"
      },
      "execution_count": 149,
      "outputs": [
        {
          "output_type": "execute_result",
          "data": {
            "text/plain": [
              "<tf.Tensor: shape=(1, 26, 26, 6), dtype=float32, numpy=\n",
              "array([[[[0.        , 0.1808088 , 0.        , 0.1736829 , 0.44372267,\n",
              "          0.        ],\n",
              "         [0.        , 0.1808088 , 0.        , 0.1736829 , 0.44372267,\n",
              "          0.        ],\n",
              "         [0.        , 0.1808088 , 0.        , 0.1736829 , 0.44372267,\n",
              "          0.        ],\n",
              "         ...,\n",
              "         [0.        , 0.1808088 , 0.        , 0.1736829 , 0.44372267,\n",
              "          0.        ],\n",
              "         [0.        , 0.1808088 , 0.        , 0.1736829 , 0.44372267,\n",
              "          0.        ],\n",
              "         [0.        , 0.1808088 , 0.        , 0.1736829 , 0.44372267,\n",
              "          0.        ]],\n",
              "\n",
              "        [[0.        , 0.1808088 , 0.        , 0.1736829 , 0.44372267,\n",
              "          0.        ],\n",
              "         [0.        , 0.1808088 , 0.        , 0.1736829 , 0.44372267,\n",
              "          0.        ],\n",
              "         [0.        , 0.1808088 , 0.        , 0.1736829 , 0.44372267,\n",
              "          0.        ],\n",
              "         ...,\n",
              "         [0.        , 0.1808088 , 0.        , 0.1736829 , 0.44372267,\n",
              "          0.        ],\n",
              "         [0.        , 0.1808088 , 0.        , 0.1736829 , 0.44372267,\n",
              "          0.        ],\n",
              "         [0.        , 0.1808088 , 0.        , 0.1736829 , 0.44372267,\n",
              "          0.        ]],\n",
              "\n",
              "        [[0.        , 0.1808088 , 0.        , 0.1736829 , 0.44372267,\n",
              "          0.        ],\n",
              "         [0.        , 0.1808088 , 0.        , 0.1736829 , 0.44372267,\n",
              "          0.        ],\n",
              "         [0.        , 0.1808088 , 0.        , 0.1736829 , 0.44372267,\n",
              "          0.        ],\n",
              "         ...,\n",
              "         [0.        , 0.1808088 , 0.        , 0.1736829 , 0.44372267,\n",
              "          0.        ],\n",
              "         [0.        , 0.1808088 , 0.        , 0.1736829 , 0.44372267,\n",
              "          0.        ],\n",
              "         [0.        , 0.1808088 , 0.        , 0.1736829 , 0.44372267,\n",
              "          0.        ]],\n",
              "\n",
              "        ...,\n",
              "\n",
              "        [[0.        , 0.1808088 , 0.        , 0.1736829 , 0.44372267,\n",
              "          0.        ],\n",
              "         [0.        , 0.1808088 , 0.        , 0.1736829 , 0.44372267,\n",
              "          0.        ],\n",
              "         [0.56470335, 0.        , 0.20885804, 0.60707724, 0.        ,\n",
              "          0.02671501],\n",
              "         ...,\n",
              "         [0.        , 0.1808088 , 0.        , 0.1736829 , 0.44372267,\n",
              "          0.        ],\n",
              "         [0.        , 0.1808088 , 0.        , 0.1736829 , 0.44372267,\n",
              "          0.        ],\n",
              "         [0.        , 0.1808088 , 0.        , 0.1736829 , 0.44372267,\n",
              "          0.        ]],\n",
              "\n",
              "        [[0.        , 0.1808088 , 0.        , 0.1736829 , 0.44372267,\n",
              "          0.        ],\n",
              "         [0.        , 0.1808088 , 0.        , 0.1736829 , 0.44372267,\n",
              "          0.        ],\n",
              "         [0.4141579 , 0.        , 0.        , 0.1976938 , 0.2914433 ,\n",
              "          0.09002528],\n",
              "         ...,\n",
              "         [0.        , 0.1808088 , 0.        , 0.1736829 , 0.44372267,\n",
              "          0.        ],\n",
              "         [0.        , 0.1808088 , 0.        , 0.1736829 , 0.44372267,\n",
              "          0.        ],\n",
              "         [0.        , 0.1808088 , 0.        , 0.1736829 , 0.44372267,\n",
              "          0.        ]],\n",
              "\n",
              "        [[0.        , 0.1808088 , 0.        , 0.1736829 , 0.44372267,\n",
              "          0.        ],\n",
              "         [0.        , 0.1808088 , 0.        , 0.1736829 , 0.44372267,\n",
              "          0.        ],\n",
              "         [0.        , 0.1808088 , 0.        , 0.1736829 , 0.44372267,\n",
              "          0.        ],\n",
              "         ...,\n",
              "         [0.        , 0.1808088 , 0.        , 0.1736829 , 0.44372267,\n",
              "          0.        ],\n",
              "         [0.        , 0.1808088 , 0.        , 0.1736829 , 0.44372267,\n",
              "          0.        ],\n",
              "         [0.        , 0.1808088 , 0.        , 0.1736829 , 0.44372267,\n",
              "          0.        ]]]], dtype=float32)>"
            ]
          },
          "metadata": {},
          "execution_count": 149
        }
      ]
    },
    {
      "cell_type": "code",
      "source": [
        "id = 0\n",
        "output_imgs[:, :, :, id].shape"
      ],
      "metadata": {
        "colab": {
          "base_uri": "https://localhost:8080/"
        },
        "id": "cQtKCJs7ymay",
        "outputId": "549b8cbc-6997-4bc4-9aa2-ab4ed704a650"
      },
      "execution_count": 148,
      "outputs": [
        {
          "output_type": "execute_result",
          "data": {
            "text/plain": [
              "TensorShape([1, 26, 26])"
            ]
          },
          "metadata": {},
          "execution_count": 148
        }
      ]
    },
    {
      "cell_type": "code",
      "source": [
        "id = 0\n",
        "img = output_imgs[:, :, :, id].numpy().reshape(26, 26)\n",
        "img"
      ],
      "metadata": {
        "colab": {
          "base_uri": "https://localhost:8080/"
        },
        "id": "WfcIxgB0ytOR",
        "outputId": "ad9e8ea7-5c02-4a9d-c6b5-4e1c2327d62b"
      },
      "execution_count": 157,
      "outputs": [
        {
          "output_type": "execute_result",
          "data": {
            "text/plain": [
              "array([[0.        , 0.        , 0.        , 0.        , 0.        ,\n",
              "        0.        , 0.        , 0.        , 0.        , 0.        ,\n",
              "        0.        , 0.        , 0.        , 0.        , 0.        ,\n",
              "        0.        , 0.        , 0.        , 0.        , 0.        ,\n",
              "        0.        , 0.        , 0.        , 0.        , 0.        ,\n",
              "        0.        ],\n",
              "       [0.        , 0.        , 0.        , 0.        , 0.        ,\n",
              "        0.        , 0.        , 0.        , 0.        , 0.        ,\n",
              "        0.        , 0.        , 0.        , 0.        , 0.        ,\n",
              "        0.        , 0.        , 0.        , 0.        , 0.        ,\n",
              "        0.        , 0.        , 0.        , 0.        , 0.        ,\n",
              "        0.        ],\n",
              "       [0.        , 0.        , 0.        , 0.        , 0.        ,\n",
              "        0.        , 0.        , 0.        , 0.        , 0.        ,\n",
              "        0.        , 0.        , 0.        , 0.        , 0.        ,\n",
              "        0.        , 0.        , 0.        , 0.        , 0.        ,\n",
              "        0.        , 0.        , 0.        , 0.        , 0.        ,\n",
              "        0.        ],\n",
              "       [0.        , 0.        , 0.        , 0.        , 0.        ,\n",
              "        0.        , 0.        , 0.        , 0.        , 0.        ,\n",
              "        0.        , 0.05923136, 0.06251661, 0.0175363 , 0.5292494 ,\n",
              "        0.6650559 , 0.5341704 , 0.        , 0.25452876, 1.2376486 ,\n",
              "        0.8527968 , 0.01079344, 0.        , 0.        , 0.        ,\n",
              "        0.        ],\n",
              "       [0.        , 0.        , 0.        , 0.        , 0.        ,\n",
              "        0.        , 0.1136321 , 0.16662328, 0.356384  , 0.6701647 ,\n",
              "        0.6303122 , 0.89110076, 0.85370755, 0.60132015, 0.9302385 ,\n",
              "        0.5526589 , 0.47581348, 0.        , 1.0028834 , 0.9528643 ,\n",
              "        0.08502574, 0.        , 0.        , 0.        , 0.        ,\n",
              "        0.        ],\n",
              "       [0.        , 0.        , 0.        , 0.        , 0.        ,\n",
              "        0.20365569, 1.2306387 , 1.2144494 , 0.80695856, 0.7241821 ,\n",
              "        0.5424701 , 0.75902987, 0.38484994, 0.34637138, 0.6979021 ,\n",
              "        0.33907405, 0.        , 0.        , 0.44168836, 0.00898225,\n",
              "        0.        , 0.        , 0.        , 0.        , 0.        ,\n",
              "        0.        ],\n",
              "       [0.        , 0.        , 0.        , 0.        , 0.        ,\n",
              "        0.20600654, 1.6612265 , 1.1665611 , 0.62024117, 0.49733654,\n",
              "        0.2632722 , 0.40032545, 0.        , 0.        , 0.05892616,\n",
              "        0.12560473, 0.        , 0.        , 0.        , 0.        ,\n",
              "        0.        , 0.        , 0.        , 0.        , 0.        ,\n",
              "        0.        ],\n",
              "       [0.        , 0.        , 0.        , 0.        , 0.        ,\n",
              "        0.18580009, 1.5509036 , 0.6344527 , 0.        , 0.15189287,\n",
              "        0.41836694, 0.        , 0.        , 0.        , 0.        ,\n",
              "        0.09437954, 0.        , 0.        , 0.        , 0.        ,\n",
              "        0.        , 0.        , 0.        , 0.        , 0.        ,\n",
              "        0.        ],\n",
              "       [0.        , 0.        , 0.        , 0.        , 0.        ,\n",
              "        0.03007803, 0.86430883, 0.23680374, 0.        , 0.596061  ,\n",
              "        0.6892028 , 0.        , 0.        , 0.        , 0.00773567,\n",
              "        0.        , 0.        , 0.        , 0.        , 0.        ,\n",
              "        0.        , 0.        , 0.        , 0.        , 0.        ,\n",
              "        0.        ],\n",
              "       [0.        , 0.        , 0.        , 0.        , 0.        ,\n",
              "        0.        , 0.23188272, 0.23900408, 0.        , 1.338214  ,\n",
              "        1.264875  , 0.        , 0.        , 0.        , 0.09142365,\n",
              "        0.3206931 , 0.        , 0.        , 0.        , 0.        ,\n",
              "        0.        , 0.        , 0.        , 0.        , 0.        ,\n",
              "        0.        ],\n",
              "       [0.        , 0.        , 0.        , 0.        , 0.        ,\n",
              "        0.        , 0.        , 0.01705838, 0.        , 0.926803  ,\n",
              "        1.4037527 , 0.08508107, 0.        , 0.        , 0.        ,\n",
              "        0.        , 0.        , 0.        , 0.        , 0.        ,\n",
              "        0.        , 0.        , 0.        , 0.        , 0.        ,\n",
              "        0.        ],\n",
              "       [0.        , 0.        , 0.        , 0.        , 0.        ,\n",
              "        0.        , 0.        , 0.        , 0.        , 0.4574236 ,\n",
              "        1.0063885 , 0.73865104, 0.        , 0.        , 0.        ,\n",
              "        0.        , 0.        , 0.        , 0.        , 0.        ,\n",
              "        0.        , 0.        , 0.        , 0.        , 0.        ,\n",
              "        0.        ],\n",
              "       [0.        , 0.        , 0.        , 0.        , 0.        ,\n",
              "        0.        , 0.        , 0.        , 0.        , 0.00729363,\n",
              "        0.65761983, 1.0946164 , 0.03238589, 0.13465461, 0.24037966,\n",
              "        0.        , 0.        , 0.        , 0.        , 0.        ,\n",
              "        0.        , 0.        , 0.        , 0.        , 0.        ,\n",
              "        0.        ],\n",
              "       [0.        , 0.        , 0.        , 0.        , 0.        ,\n",
              "        0.        , 0.        , 0.        , 0.        , 0.        ,\n",
              "        0.08541157, 0.87884843, 0.4451168 , 0.15229097, 0.4450682 ,\n",
              "        0.        , 0.        , 0.        , 0.        , 0.        ,\n",
              "        0.        , 0.        , 0.        , 0.        , 0.        ,\n",
              "        0.        ],\n",
              "       [0.        , 0.        , 0.        , 0.        , 0.        ,\n",
              "        0.        , 0.        , 0.        , 0.        , 0.        ,\n",
              "        0.        , 0.23513761, 0.6032926 , 0.31526804, 0.10528523,\n",
              "        0.13496728, 0.        , 0.        , 0.        , 0.        ,\n",
              "        0.        , 0.        , 0.        , 0.        , 0.        ,\n",
              "        0.        ],\n",
              "       [0.        , 0.        , 0.        , 0.        , 0.        ,\n",
              "        0.        , 0.        , 0.        , 0.        , 0.        ,\n",
              "        0.        , 0.        , 0.11796071, 0.4665068 , 0.30265498,\n",
              "        1.2552778 , 0.4417685 , 0.        , 0.        , 0.        ,\n",
              "        0.        , 0.        , 0.        , 0.        , 0.        ,\n",
              "        0.        ],\n",
              "       [0.        , 0.        , 0.        , 0.        , 0.        ,\n",
              "        0.        , 0.        , 0.        , 0.        , 0.        ,\n",
              "        0.        , 0.        , 0.18944144, 0.67718184, 1.0531865 ,\n",
              "        2.1595392 , 0.47215918, 0.        , 0.        , 0.        ,\n",
              "        0.        , 0.        , 0.        , 0.        , 0.        ,\n",
              "        0.        ],\n",
              "       [0.        , 0.        , 0.        , 0.        , 0.        ,\n",
              "        0.        , 0.        , 0.        , 0.        , 0.        ,\n",
              "        0.15627486, 0.70465744, 1.2008327 , 1.1360416 , 0.7461288 ,\n",
              "        1.4780024 , 0.3194927 , 0.        , 0.        , 0.        ,\n",
              "        0.        , 0.        , 0.        , 0.        , 0.        ,\n",
              "        0.        ],\n",
              "       [0.        , 0.        , 0.        , 0.        , 0.        ,\n",
              "        0.        , 0.        , 0.        , 0.0852036 , 0.53128123,\n",
              "        1.1587518 , 1.3127134 , 0.9935651 , 0.75001764, 0.45726857,\n",
              "        0.13858621, 0.        , 0.        , 0.        , 0.        ,\n",
              "        0.        , 0.        , 0.        , 0.        , 0.        ,\n",
              "        0.        ],\n",
              "       [0.        , 0.        , 0.        , 0.        , 0.        ,\n",
              "        0.        , 0.08046551, 0.30303448, 1.0388625 , 1.4032235 ,\n",
              "        1.1023577 , 0.8715091 , 0.55413723, 0.        , 0.        ,\n",
              "        0.        , 0.        , 0.        , 0.        , 0.        ,\n",
              "        0.        , 0.        , 0.        , 0.        , 0.        ,\n",
              "        0.        ],\n",
              "       [0.        , 0.        , 0.        , 0.        , 0.05677509,\n",
              "        0.7964395 , 1.1652082 , 0.950866  , 1.1927595 , 0.8552971 ,\n",
              "        0.6693225 , 0.        , 0.        , 0.        , 0.        ,\n",
              "        0.        , 0.        , 0.        , 0.        , 0.        ,\n",
              "        0.        , 0.        , 0.        , 0.        , 0.        ,\n",
              "        0.        ],\n",
              "       [0.        , 0.        , 0.23208418, 0.83147156, 1.0730144 ,\n",
              "        1.2922708 , 0.7912518 , 0.6554538 , 0.81289387, 0.31786862,\n",
              "        0.        , 0.        , 0.        , 0.        , 0.        ,\n",
              "        0.        , 0.        , 0.        , 0.        , 0.        ,\n",
              "        0.        , 0.        , 0.        , 0.        , 0.        ,\n",
              "        0.        ],\n",
              "       [0.        , 0.        , 0.7833737 , 1.5976129 , 1.0537754 ,\n",
              "        0.9882208 , 0.27161473, 0.        , 0.        , 0.        ,\n",
              "        0.        , 0.        , 0.        , 0.        , 0.        ,\n",
              "        0.        , 0.        , 0.        , 0.        , 0.        ,\n",
              "        0.        , 0.        , 0.        , 0.        , 0.        ,\n",
              "        0.        ],\n",
              "       [0.        , 0.        , 0.56470335, 0.59354806, 0.        ,\n",
              "        0.        , 0.        , 0.        , 0.        , 0.        ,\n",
              "        0.        , 0.        , 0.        , 0.        , 0.        ,\n",
              "        0.        , 0.        , 0.        , 0.        , 0.        ,\n",
              "        0.        , 0.        , 0.        , 0.        , 0.        ,\n",
              "        0.        ],\n",
              "       [0.        , 0.        , 0.4141579 , 0.3140704 , 0.        ,\n",
              "        0.        , 0.        , 0.        , 0.        , 0.        ,\n",
              "        0.        , 0.        , 0.        , 0.        , 0.        ,\n",
              "        0.        , 0.        , 0.        , 0.        , 0.        ,\n",
              "        0.        , 0.        , 0.        , 0.        , 0.        ,\n",
              "        0.        ],\n",
              "       [0.        , 0.        , 0.        , 0.        , 0.        ,\n",
              "        0.        , 0.        , 0.        , 0.        , 0.        ,\n",
              "        0.        , 0.        , 0.        , 0.        , 0.        ,\n",
              "        0.        , 0.        , 0.        , 0.        , 0.        ,\n",
              "        0.        , 0.        , 0.        , 0.        , 0.        ,\n",
              "        0.        ]], dtype=float32)"
            ]
          },
          "metadata": {},
          "execution_count": 157
        }
      ]
    },
    {
      "cell_type": "code",
      "source": [
        "for id in range(6):\n",
        "  img = output_img[:, :, :, id].numpy().reshape(26, 26)\n",
        "  plt.imshow(img, cmap='gray')\n",
        "  plt.title('Output Image')\n",
        "  plt.show()"
      ],
      "metadata": {
        "colab": {
          "base_uri": "https://localhost:8080/",
          "height": 1000
        },
        "id": "3lk_J3jpymQz",
        "outputId": "24e9ab59-c6b6-4979-8f48-95d471ac8ac1"
      },
      "execution_count": 158,
      "outputs": [
        {
          "output_type": "display_data",
          "data": {
            "text/plain": [
              "<Figure size 432x288 with 1 Axes>"
            ],
            "image/png": "[encoded data removed]"
          },
          "metadata": {
            "needs_background": "light"
          }
        },
        {
          "output_type": "display_data",
          "data": {
            "text/plain": [
              "<Figure size 432x288 with 1 Axes>"
            ],
            "image/png": "[encoded data removed]"
          },
          "metadata": {
            "needs_background": "light"
          }
        },
        {
          "output_type": "display_data",
          "data": {
            "text/plain": [
              "<Figure size 432x288 with 1 Axes>"
            ],
            "image/png": "[encoded data removed]"
          },
          "metadata": {
            "needs_background": "light"
          }
        },
        {
          "output_type": "display_data",
          "data": {
            "text/plain": [
              "<Figure size 432x288 with 1 Axes>"
            ],
            "image/png": "[encoded data removed]"
          },
          "metadata": {
            "needs_background": "light"
          }
        },
        {
          "output_type": "display_data",
          "data": {
            "text/plain": [
              "<Figure size 432x288 with 1 Axes>"
            ],
            "image/png": "[encoded data removed]"
          },
          "metadata": {
            "needs_background": "light"
          }
        },
        {
          "output_type": "display_data",
          "data": {
            "text/plain": [
              "<Figure size 432x288 with 1 Axes>"
            ],
            "image/png": "[encoded data removed]"
          },
          "metadata": {
            "needs_background": "light"
          }
        }
      ]
    }
  ]
}