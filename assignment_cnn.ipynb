{
  "nbformat": 4,
  "nbformat_minor": 0,
  "metadata": {
    "accelerator": "GPU",
    "anaconda-cloud": {},
    "colab": {
      "provenance": [],
      "collapsed_sections": [],
      "include_colab_link": true
    },
    "kernelspec": {
      "display_name": "Python [conda env:tensorflow]",
      "language": "python",
      "name": "conda-env-tensorflow-py"
    },
    "language_info": {
      "codemirror_mode": {
        "name": "ipython",
        "version": 3
      },
      "file_extension": ".py",
      "mimetype": "text/x-python",
      "name": "python",
      "nbconvert_exporter": "python",
      "pygments_lexer": "ipython3",
      "version": "3.6.5"
    }
  },
  "cells": [
    {
      "cell_type": "markdown",
      "metadata": {
        "id": "view-in-github",
        "colab_type": "text"
      },
      "source": [
        "<a href=\"https://colab.research.google.com/github/fabiodemo/Deep-Learning-CV-CNN-TL/blob/main/assignment_cnn.ipynb\" target=\"_parent\"><img src=\"https://colab.research.google.com/assets/colab-badge.svg\" alt=\"Open In Colab\"/></a>"
      ]
    },
    {
      "cell_type": "markdown",
      "metadata": {
        "id": "kKhMLqYhT-kV"
      },
      "source": [
        "## Assignment: Fashion MNIST\n",
        "Now it is your turn! You are going to use the same methods presented in the previous video in order to classify clothes from a black and white dataset of images (image by Zalando, MIT License):\n",
        "![](https://tensorflow.org/images/fashion-mnist-sprite.png)\n",
        "\n",
        "The class labels are:\n",
        "```\n",
        "0. T-shirt/top\n",
        "1. Trouser\n",
        "2. Pullover\n",
        "3. Dress\n",
        "4. Coat\n",
        "5. Sandal\n",
        "6. Shirt\n",
        "7. Sneaker\n",
        "8. Bag\n",
        "9. Ankle boot\n",
        "```\n",
        "\n",
        "### 1. Preparing the input data\n",
        "Let's first import the dataset. It is available on [tensorflow.keras.datasets](https://keras.io/datasets/):"
      ]
    },
    {
      "cell_type": "code",
      "metadata": {
        "id": "6jmqASUFUhcA"
      },
      "source": [
        "import tensorflow\n",
        "fashion_mnist = tensorflow.keras.datasets.fashion_mnist\n",
        "\n",
        "(X_train, y_train), (X_test, y_test) = fashion_mnist.load_data()"
      ],
      "execution_count": null,
      "outputs": []
    },
    {
      "cell_type": "code",
      "metadata": {
        "id": "J7HxI9gKHrdo",
        "colab": {
          "base_uri": "https://localhost:8080/"
        },
        "outputId": "93801939-0e84-4151-a2b6-69fd4ea854f8"
      },
      "source": [
        "print(\"Shape of the training set: {}\".format(X_train.shape))\n",
        "print(\"Shape of the test set: {}\".format(X_test.shape))"
      ],
      "execution_count": null,
      "outputs": [
        {
          "output_type": "stream",
          "name": "stdout",
          "text": [
            "Shape of the training set: (60000, 28, 28)\n",
            "Shape of the test set: (10000, 28, 28)\n"
          ]
        }
      ]
    },
    {
      "cell_type": "code",
      "metadata": {
        "collapsed": true,
        "id": "L2ocA0Q5Xl9D"
      },
      "source": [
        "# TODO: Normalize the training and testing set using standardization\n",
        "def normalize(x,m,s):\n",
        "    return ((x - m)/s)\n",
        "\n",
        "train_mean = X_train.mean()\n",
        "train_std = X_train.std()\n",
        "\n",
        "X_train = normalize(X_train, train_mean, train_std)\n",
        "X_test = normalize(X_test, train_mean, train_std)\n"
      ],
      "execution_count": null,
      "outputs": []
    },
    {
      "cell_type": "code",
      "metadata": {
        "id": "Ds1WtmpkXmAE",
        "colab": {
          "base_uri": "https://localhost:8080/"
        },
        "outputId": "bcdf4a61-3b73-47ec-b77a-45d79e5fbfcb"
      },
      "source": [
        "print(f'Training Mean after standardization {X_train.mean():.3f}')\n",
        "print(f'Training Std after standardization {X_train.std():.3f}')\n",
        "print(f'Test Mean after standardization {X_test.mean():.3f}')\n",
        "print(f'Test Std after standardization {X_test.std():.3f}')"
      ],
      "execution_count": null,
      "outputs": [
        {
          "output_type": "stream",
          "name": "stdout",
          "text": [
            "Training Mean after standardization -0.000\n",
            "Training Std after standardization 1.000\n",
            "Test Mean after standardization 0.002\n",
            "Test Std after standardization 0.998\n"
          ]
        }
      ]
    },
    {
      "cell_type": "markdown",
      "metadata": {
        "id": "BPzqIUFgszeR"
      },
      "source": [
        "### 2. Training with fully connected layers"
      ]
    },
    {
      "cell_type": "code",
      "metadata": {
        "id": "GLcpBsFuHrdp",
        "colab": {
          "base_uri": "https://localhost:8080/"
        },
        "outputId": "7e7adde6-7959-49e7-82fe-d01f3c9b7d2e"
      },
      "source": [
        "from tensorflow.keras.models import Sequential\n",
        "from tensorflow.keras.layers import Flatten, Dense\n",
        "\n",
        "model = Sequential([\n",
        "    Flatten(),\n",
        "    Dense(512, activation='relu'),\n",
        "    Dense(10, activation='softmax')\n",
        "])\n",
        "\n",
        "model.compile(optimizer='adam',\n",
        "              loss='sparse_categorical_crossentropy',\n",
        "              metrics=['accuracy'])\n",
        "\n",
        "model.fit(X_train, y_train, epochs=2, validation_data=(X_test, y_test))"
      ],
      "execution_count": null,
      "outputs": [
        {
          "output_type": "stream",
          "name": "stdout",
          "text": [
            "Epoch 1/2\n",
            "1875/1875 [==============================] - 5s 3ms/step - loss: 0.4544 - accuracy: 0.8360 - val_loss: 0.4006 - val_accuracy: 0.8568\n",
            "Epoch 2/2\n",
            "1875/1875 [==============================] - 6s 3ms/step - loss: 0.3475 - accuracy: 0.8714 - val_loss: 0.3592 - val_accuracy: 0.8695\n"
          ]
        },
        {
          "output_type": "execute_result",
          "data": {
            "text/plain": [
              "<keras.callbacks.History at 0x7faf4e059b50>"
            ]
          },
          "metadata": {},
          "execution_count": 41
        }
      ]
    },
    {
      "cell_type": "markdown",
      "metadata": {
        "id": "2OfsImcOHrdq"
      },
      "source": [
        "### 3. Extending to CNNs\n",
        "Now your goal is to develop an architecture that can reach a test accuracy higher than 0.85."
      ]
    },
    {
      "cell_type": "code",
      "source": [
        "model.summary()"
      ],
      "metadata": {
        "colab": {
          "base_uri": "https://localhost:8080/"
        },
        "id": "4dYAkCe7d7np",
        "outputId": "2b8b3874-b2d6-43c8-c4c1-7c3b87d547ba"
      },
      "execution_count": null,
      "outputs": [
        {
          "output_type": "stream",
          "name": "stdout",
          "text": [
            "Model: \"sequential\"\n",
            "_________________________________________________________________\n",
            " Layer (type)                Output Shape              Param #   \n",
            "=================================================================\n",
            " flatten (Flatten)           (None, 784)               0         \n",
            "                                                                 \n",
            " dense (Dense)               (None, 512)               401920    \n",
            "                                                                 \n",
            " dense_1 (Dense)             (None, 10)                5130      \n",
            "                                                                 \n",
            "=================================================================\n",
            "Total params: 407,050\n",
            "Trainable params: 407,050\n",
            "Non-trainable params: 0\n",
            "_________________________________________________________________\n"
          ]
        }
      ]
    },
    {
      "cell_type": "code",
      "metadata": {
        "collapsed": true,
        "id": "0MXb6rZCHrdq"
      },
      "source": [
        "# TODO: Reshape the dataset in order to add the channel dimension\n",
        "X_train = X_train.reshape(-1, 28, 28, 1)\n",
        "X_test = X_test.reshape(-1, 28, 28, 1)"
      ],
      "execution_count": null,
      "outputs": []
    },
    {
      "cell_type": "code",
      "metadata": {
        "id": "UnxgT_PfHrdq"
      },
      "source": [
        "from tensorflow.keras.layers import Conv2D, MaxPooling2D\n",
        "\n",
        "model = Sequential([\n",
        "    Conv2D(8,\n",
        "        input_shape=(28, 28, 1),\n",
        "        kernel_size=3, activation='relu'\n",
        "        ),\n",
        "    MaxPooling2D(),\n",
        "    Conv2D(16, \n",
        "           kernel_size=3,\n",
        "          activation='relu'\n",
        "        ),\n",
        "    MaxPooling2D(),\n",
        "    Flatten(),\n",
        "    Dense(units=32, activation='relu'),\n",
        "    Dense(units=10, activation='softmax')\n",
        "])"
      ],
      "execution_count": null,
      "outputs": []
    },
    {
      "cell_type": "code",
      "source": [
        "model.summary()"
      ],
      "metadata": {
        "colab": {
          "base_uri": "https://localhost:8080/"
        },
        "id": "RLRP7RFBhfoo",
        "outputId": "68c85780-5854-43a0-b781-06da8fb262ac"
      },
      "execution_count": null,
      "outputs": [
        {
          "output_type": "stream",
          "name": "stdout",
          "text": [
            "Model: \"sequential_20\"\n",
            "_________________________________________________________________\n",
            " Layer (type)                Output Shape              Param #   \n",
            "=================================================================\n",
            " conv2d_38 (Conv2D)          (None, 26, 26, 8)         80        \n",
            "                                                                 \n",
            " max_pooling2d_38 (MaxPoolin  (None, 13, 13, 8)        0         \n",
            " g2D)                                                            \n",
            "                                                                 \n",
            " conv2d_39 (Conv2D)          (None, 11, 11, 16)        1168      \n",
            "                                                                 \n",
            " max_pooling2d_39 (MaxPoolin  (None, 5, 5, 16)         0         \n",
            " g2D)                                                            \n",
            "                                                                 \n",
            " flatten_15 (Flatten)        (None, 400)               0         \n",
            "                                                                 \n",
            " dense_40 (Dense)            (None, 32)                12832     \n",
            "                                                                 \n",
            " dense_41 (Dense)            (None, 10)                330       \n",
            "                                                                 \n",
            "=================================================================\n",
            "Total params: 14,410\n",
            "Trainable params: 14,410\n",
            "Non-trainable params: 0\n",
            "_________________________________________________________________\n"
          ]
        }
      ]
    },
    {
      "cell_type": "code",
      "source": [
        "model.compile(optimizer='adam',\n",
        "              loss='sparse_categorical_crossentropy',\n",
        "              metrics=['accuracy'])"
      ],
      "metadata": {
        "id": "eIQgKOtLhbAQ"
      },
      "execution_count": null,
      "outputs": []
    },
    {
      "cell_type": "code",
      "source": [
        "model.fit(\n",
        "    X_train, y_train,\n",
        "    validation_data=(X_test, y_test),\n",
        "    epochs=5\n",
        ")"
      ],
      "metadata": {
        "colab": {
          "base_uri": "https://localhost:8080/"
        },
        "id": "BBa6tcj6hax1",
        "outputId": "2a7b8db3-1fcd-4a7c-c54f-cf666aa5555c"
      },
      "execution_count": null,
      "outputs": [
        {
          "output_type": "stream",
          "name": "stdout",
          "text": [
            "Epoch 1/5\n",
            "1875/1875 [==============================] - 6s 3ms/step - loss: 0.5177 - accuracy: 0.8152 - val_loss: 0.3996 - val_accuracy: 0.8523\n",
            "Epoch 2/5\n",
            "1875/1875 [==============================] - 6s 3ms/step - loss: 0.3657 - accuracy: 0.8687 - val_loss: 0.3646 - val_accuracy: 0.8681\n",
            "Epoch 3/5\n",
            "1875/1875 [==============================] - 6s 3ms/step - loss: 0.3264 - accuracy: 0.8819 - val_loss: 0.3526 - val_accuracy: 0.8698\n",
            "Epoch 4/5\n",
            "1875/1875 [==============================] - 6s 3ms/step - loss: 0.3030 - accuracy: 0.8910 - val_loss: 0.3433 - val_accuracy: 0.8759\n",
            "Epoch 5/5\n",
            "1875/1875 [==============================] - 6s 3ms/step - loss: 0.2848 - accuracy: 0.8963 - val_loss: 0.3192 - val_accuracy: 0.8842\n"
          ]
        },
        {
          "output_type": "execute_result",
          "data": {
            "text/plain": [
              "<keras.callbacks.History at 0x7fae544e7050>"
            ]
          },
          "metadata": {},
          "execution_count": 95
        }
      ]
    },
    {
      "cell_type": "markdown",
      "metadata": {
        "collapsed": true,
        "id": "JUprzA49Hrdq"
      },
      "source": [
        "### 4. Visualizing Predictions"
      ]
    },
    {
      "cell_type": "code",
      "metadata": {
        "collapsed": true,
        "id": "qNtKMmXVHrdq",
        "colab": {
          "base_uri": "https://localhost:8080/",
          "height": 1000
        },
        "outputId": "7ff701dd-a6c1-4c74-b8cb-b796c2f3d285"
      },
      "source": [
        "import numpy as np\n",
        "import matplotlib.pyplot as plt\n",
        "\n",
        "label_names = {0:\"T-shirt/top\",\n",
        "               1:\"Trouser\",\n",
        "               2:\"Pullover\",\n",
        "               3:\"Dress\",\n",
        "               4:\"Coat\",\n",
        "               5:\"Sandal\",\n",
        "               6:\"Shirt\",\n",
        "               7:\"Sneaker\",\n",
        "               8:\"Bag\",\n",
        "               9:\"Ankle boot\"}\n",
        "\n",
        "# Index to be visualized\n",
        "for idx in range(5):\n",
        "    plt.imshow(X_test[idx].reshape(28,28), cmap='gray')\n",
        "    out = model.predict(X_test[idx].reshape(1,28,28,1))\n",
        "    plt.title(\"True: {}, Pred: {}\".format(label_names[y_test[idx]], label_names[np.argmax(out)]))\n",
        "    plt.show()"
      ],
      "execution_count": null,
      "outputs": [
        {
          "output_type": "display_data",
          "data": {
            "text/plain": [
              "<Figure size 432x288 with 1 Axes>"
            ],
            "image/png": "[encoded data removed]"
          },
          "metadata": {
            "needs_background": "light"
          }
        },
        {
          "output_type": "display_data",
          "data": {
            "text/plain": [
              "<Figure size 432x288 with 1 Axes>"
            ],
            "image/png": "[encoded data removed]"
          },
          "metadata": {
            "needs_background": "light"
          }
        },
        {
          "output_type": "display_data",
          "data": {
            "text/plain": [
              "<Figure size 432x288 with 1 Axes>"
            ],
            "image/png": "[encoded data removed]"
          },
          "metadata": {
            "needs_background": "light"
          }
        },
        {
          "output_type": "display_data",
          "data": {
            "text/plain": [
              "<Figure size 432x288 with 1 Axes>"
            ],
            "image/png": "[encoded data removed]"
          },
          "metadata": {
            "needs_background": "light"
          }
        },
        {
          "output_type": "display_data",
          "data": {
            "text/plain": [
              "<Figure size 432x288 with 1 Axes>"
            ],
            "image/png": "[encoded data removed]"
          },
          "metadata": {
            "needs_background": "light"
          }
        }
      ]
    },
    {
      "cell_type": "code",
      "source": [],
      "metadata": {
        "id": "DBCLhcXtjeke"
      },
      "execution_count": null,
      "outputs": []
    }
  ]
}